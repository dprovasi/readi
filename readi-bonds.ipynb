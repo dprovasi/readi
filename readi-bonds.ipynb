{
 "cells": [
  {
   "cell_type": "markdown",
   "metadata": {},
   "source": [
    "## reaction diffusion simulations"
   ]
  },
  {
   "cell_type": "code",
   "execution_count": 151,
   "metadata": {
    "collapsed": true
   },
   "outputs": [],
   "source": [
    "import numpy as np\n",
    "import pandas as pd\n",
    "import uuid\n",
    "\n",
    "import matplotlib.pyplot as plt\n",
    "import matplotlib.animation as animation\n",
    "from IPython.display import HTML\n",
    "\n",
    "from copy import deepcopy"
   ]
  },
  {
   "cell_type": "markdown",
   "metadata": {},
   "source": [
    "### define particles and trajectory classes\n",
    "only property of particle-types is diffusion and a geometry object\n",
    "\n",
    "**to clean up**\n",
    "particle types contain their uni-molecular reactions but this should be separated to mirror the case of bi-molecular reactions. i.e define inducts (uni and bi-), each induc class has a method to get their instances in the simulation.\n",
    "traj has uni- and b- reactors, that call the method, loop over the reactions associated with the inducts, and effects them"
   ]
  },
  {
   "cell_type": "code",
   "execution_count": 167,
   "metadata": {
    "collapsed": false
   },
   "outputs": [],
   "source": [
    "class energyterm(object):\n",
    "    pass\n",
    "\n",
    "class bondterm(energyterm):\n",
    "    def __init__(self, k, d, part1=None):\n",
    "        self.elastic=k\n",
    "        self.distance=d\n",
    "        self.partner = part1\n",
    "        self.name=uuid.uuid4()\n",
    "        \n",
    "    def assign_partner(self,part1):\n",
    "        self.partner = part1\n",
    "    \n",
    "    def force(self, position):\n",
    "        partner = self.partner\n",
    "        pos1 = partner.pos\n",
    "        ## we use geometry from partner, ... what happend if they are different?\n",
    "        if(partner.ptype.geometry.bc == 'pbc'):\n",
    "            box = partner.ptype.geometry.size\n",
    "            pos1 = pos1 - np.floor(pos1/box) * box\n",
    "            delta = (pos1 - position)\n",
    "            delta = delta - np.rint(delta/box)* box\n",
    "        else:\n",
    "            delta = (pos1 - position)\n",
    "        dist = np.sqrt((delta*delta).sum())\n",
    "\n",
    "\n",
    "        factor = self.elastic*(dist-self.distance)\n",
    "        force = factor*delta/dist\n",
    "        return force \n",
    "        \n"
   ]
  },
  {
   "cell_type": "code",
   "execution_count": 176,
   "metadata": {
    "collapsed": true
   },
   "outputs": [],
   "source": [
    "class hardcore(energyterm):\n",
    "    def __init__(self, k, d, part1):\n",
    "        self.elastic=k\n",
    "        self.distance=d\n",
    "        self.partner = part1\n",
    "        self.name=uuid.uuid4()\n",
    "\n",
    "    def force(self, position):\n",
    "        partner = self.partner\n",
    "\n",
    "        pos1 = partner.pos\n",
    "        ## we use geometry from partner, ... what happend if they are different?\n",
    "        if(partner.ptype.geometry.bc == 'pbc'):\n",
    "            box = partner.ptype.geometry.size\n",
    "            pos1 = pos1 - np.floor(pos1/box) * box\n",
    "            delta = (pos1 - position)\n",
    "            delta = delta - np.rint(delta/box)* box\n",
    "        else:\n",
    "            delta = (pos1 - position)\n",
    "        dist = np.sqrt((delta*delta).sum())\n",
    "\n",
    "        if dist<self.distance:\n",
    "            factor = self.elastic*(dist-self.distance)\n",
    "            force = factor*delta/dist\n",
    "        else:\n",
    "            force = np.array([0.,0.])\n",
    "            \n",
    "        return force "
   ]
  },
  {
   "cell_type": "code",
   "execution_count": null,
   "metadata": {
    "collapsed": false
   },
   "outputs": [],
   "source": [
    "#p1 = ptype(1e-2,'p1', geometry(2,20.))\n",
    "#part1 = particle(ptype=p1,age=0,pos=np.array([0.,0.]),energyterms=[])\n",
    "#part2 = particle(ptype=p1,age=0,pos=np.array([1.,0.]),energyterms=[])\n",
    "#bond1 = bondterm(1,1.5,part2)\n",
    "#bond2 = bondterm(1,1.5,part1)\n",
    "\n",
    "\n",
    "#part1.add_energyterm(bond1)\n",
    "#part2.add_energyterm(bond2)\n",
    "\n",
    "#part2b = part2.step(10)\n",
    "#part2b.pos"
   ]
  },
  {
   "cell_type": "code",
   "execution_count": null,
   "metadata": {
    "collapsed": true
   },
   "outputs": [],
   "source": []
  },
  {
   "cell_type": "code",
   "execution_count": 3,
   "metadata": {
    "collapsed": false
   },
   "outputs": [],
   "source": [
    "class ptype:\n",
    "    \"\"\"basic particle type, with name and physical properties\n",
    "    it also has a list of unimolecular reactions A -> products\n",
    "    \"\"\"\n",
    "    def __init__(self,diffusion,name,geometry):\n",
    "        self.diffusion=diffusion\n",
    "        self.name=name\n",
    "        self.unimolecular_reactions = []\n",
    "        self.unimolecular_probs = []\n",
    "        self.geometry= geometry\n",
    "        \n",
    "    def add_reaction(self,reaction):\n",
    "        \"\"\"adds a unimolecular_reaction to the list for this particle type\n",
    "        and updates the probabilities function\"\"\"\n",
    "        (self.unimolecular_reactions).append(reaction)\n",
    "        rates = np.array([rea.rate for rea in self.unimolecular_reactions])\n",
    "        self.unimolecular_probs = rates\n",
    "        \n",
    "    def choose_reaction(self,dt):\n",
    "        \"\"\"chooses one reaction (or none) for a given time step\n",
    "        that reaction can then be effected on a particle with effect_reaction\n",
    "        \"\"\"\n",
    "        if len(self.unimolecular_probs)==0:\n",
    "            return None\n",
    "        else:\n",
    "            rates = self.unimolecular_probs\n",
    "            probs = (rates/rates.sum())*(1 - np.exp( - dt* rates.sum()))\n",
    "            #print(\"Cumulative probs: \",np.cumsum(probs))\n",
    "            alpha=np.random.uniform(size=1)\n",
    "            conf = np.cumsum(probs)>alpha\n",
    "            if any(conf):\n",
    "                ii = np.argmax(conf)\n",
    "                #print(\"Chosen rection %s\" % self.unimolecular_reactions[ii].name)\n",
    "                return self.unimolecular_reactions[ii]\n",
    "            else:\n",
    "                return None\n",
    "        \n",
    "\n",
    "class geometry(object):\n",
    "    \"\"\"a basic basic geometry specification\n",
    "    ideally it would include boundary conditions, dimensionality\n",
    "    external potentials, etc. \n",
    "    It's used to evolve the dynamics of particles, \n",
    "    so each particle type is attached to a geometry object at construction\n",
    "    \"\"\"\n",
    "    def __init__(self, size, dim=2):\n",
    "        self.dim=dim\n",
    "        self.size=size\n",
    "        self.bc='pbc'\n",
    "        \n",
    "\n",
    "class particle:\n",
    "    \"\"\"particle instance, it has an id, position, age, types, etc.\"\"\"\n",
    "    def __init__(self, ptype, pos, age=0, id=None, energyterms=None):\n",
    "        if id==None:\n",
    "            self.id = uuid.uuid4()\n",
    "        else:\n",
    "            self.id = id\n",
    "        self.ptype = ptype\n",
    "        self.age = age\n",
    "        if energyterms==None:\n",
    "            self.energyterms = []\n",
    "        else:\n",
    "            print(\"creating particle with %d energy terms\" % len(energyterms))\n",
    "            self.energyterms=energyterms\n",
    "        self.pos = pos\n",
    "        \n",
    "    def add_energyterm(self, energyterm):\n",
    "        (self.energyterms).append(energyterm)\n",
    "            \n",
    "    def step(self,dt,kT=None):\n",
    "        if len(self.energyterms)>0 and not kT==None:\n",
    "            #print(\"force!\")\n",
    "            forces = [ eterm.force(self.pos) for eterm in self.energyterms]\n",
    "            force = np.vstack(forces).sum(axis=0)\n",
    "            dx = force*self.ptype.diffusion*dt/kT\n",
    "        else:\n",
    "            dx = 0\n",
    "        pos1 = self.pos + dx + np.sqrt(2*self.ptype.diffusion*dt)*np.random.normal(0, 1, 2)\n",
    "        \n",
    "                                        \n",
    "        if(self.ptype.geometry.bc == 'pbc'):\n",
    "            box = self.ptype.geometry.size\n",
    "            pos1=pos1 - np.floor(pos1/box) * box\n",
    "        #print(\"type %s, age %d\"% (self.ptype.name, self.age))\n",
    "        #print(\"pos\",pos1)\n",
    "        self.pos = pos1\n",
    "        self.age += 1\n",
    "        #pnew = particle(self.ptype, pos1,\n",
    "        #                age = self.age + 1, id = self.id)\n",
    "        return self\n",
    "\n",
    "    def deghost(self, swap=None):\n",
    "        \"\"\" removes energyterms referring to this particle \"\"\"\n",
    "        for eterm in self.energyterms:\n",
    "            part = eterm.partner\n",
    "            for partner_eterm in part.energyterms:\n",
    "                if (partner_eterm.partner)==self:\n",
    "                    print(\"deghosted %s\" % part.id)\n",
    "                    if swap==None:\n",
    "                        (part.energyterms).remove(partner_eterm)\n",
    "                    else:\n",
    "                        partner_eterm.partner=swap\n",
    "    \n",
    "    \n",
    "        \n",
    "class traj:\n",
    "    \"\"\"a traj is a list (frames) of lists of particles\"\"\"\n",
    "    \n",
    "    def __init__(self, particles=[]):\n",
    "        self.ptraj = []\n",
    "        self.nframes = 0\n",
    "        (self.ptraj).append(particles)\n",
    "\n",
    "    def __getitem__(self, key):\n",
    "        if isinstance(key, slice):\n",
    "            print(\"sliced trajectory\")\n",
    "        outt = traj()\n",
    "        outt.ptraj=self.ptraj[key]\n",
    "        outt.nframes = len(outt.ptraj)\n",
    "        return outt\n",
    "        \n",
    "    def describe(self):\n",
    "        n = len(self.ptraj)\n",
    "        print(\"Length %d (%d)\" % (n,self.nframes))\n",
    "        \n",
    "    def step(self,dt,kT=None):\n",
    "        \"\"\"updates the latest frame\"\"\"\n",
    "        newvals=[]\n",
    "        for pa in (self.ptraj)[self.nframes]:\n",
    "            pa1 = pa.step(dt,kT)\n",
    "            newvals.append(pa1)\n",
    "        (self.ptraj)[self.nframes] = newvals\n",
    "        #(self.ptraj).append(newvals)\n",
    "        #self.nframes = (self.nframes)+1\n",
    "        \n",
    "    def store(self):\n",
    "        \"\"\"hard-duplicates the latest frame\"\"\"\n",
    "        newvals = []\n",
    "        for pa in (self.ptraj)[self.nframes]:\n",
    "            pa1 = particle(ptype=pa.ptype, pos=pa.pos,age=pa.age,id=pa.id)\n",
    "            newvals.append(pa1)\n",
    "            \n",
    "        (self.ptraj).append((self.ptraj)[self.nframes])\n",
    "        (self.ptraj)[self.nframes]=newvals\n",
    "        self.nframes = (self.nframes)+1\n",
    "                \n",
    "\n",
    "    def react_unimolecular(self, dt):\n",
    "        ###### unimolecular reactions would be defined \n",
    "        ###### on unm_inducts to mimick other orders\n",
    "        ###### then here we can pass the set of unim_inducts \n",
    "        \"\"\"loops over particles and reacts them with their unimolecular reactions\n",
    "         unimolecular reactions are associated to the incoming pair\n",
    "        \"\"\"\n",
    "        newvals=[]\n",
    "        for pa in (self.ptraj)[self.nframes]:\n",
    "            react = pa.ptype.choose_reaction(dt)\n",
    "            if(not react==None):\n",
    "                pa1 = react.effect_reaction(pa)\n",
    "                if not pa1==None:\n",
    "                    for pa11 in pa1:\n",
    "                        newvals.append(pa11)\n",
    "            else:\n",
    "                newvals.append(pa)\n",
    "        \n",
    "        (self.ptraj)[self.nframes] = newvals\n",
    "        \n",
    "    def react_bimolecular(self, dt, bim_inducts, verbose=False):\n",
    "        \"\"\" bimolecular reactions        \n",
    "        \"\"\"\n",
    "        frame = (self.ptraj)[self.nframes]\n",
    "        if verbose:\n",
    "            print(\"reacting frame %d\" % self.nframes)\n",
    "        #loop over inducts, get instances, choose reaction, effect reaction\n",
    "        # remember to add the particles that are not in any instance\n",
    "        for induct in bim_inducts:\n",
    "            #print(\"induct name: %s\"%induct.name)\n",
    "            induct_instances = induct.get_ec(frame)\n",
    "            ##if len(induct_instances)>0:\n",
    "            ##    print(induct_instances)\n",
    "            for EC_instance in induct_instances:\n",
    "                react = induct.choose_reaction(dt)\n",
    "                if(not react==None):\n",
    "                    pa1 = react.effect_reaction(EC_instance)\n",
    "                    ## remove incoming particles from frame\n",
    "                    for part in EC_instance:\n",
    "                        #### EC_instance is a list of two (index,particle)\n",
    "                        #print(\"removing part %d\" % part.id)\n",
    "                        frame.remove(part)\n",
    "                    ## add educts\n",
    "                    if not pa1==None:\n",
    "                        for pa11 in pa1:\n",
    "                            frame.append(pa11)\n",
    "                            \n",
    "            "
   ]
  },
  {
   "cell_type": "code",
   "execution_count": 42,
   "metadata": {
    "collapsed": false
   },
   "outputs": [
    {
     "data": {
      "text/plain": [
       "5"
      ]
     },
     "execution_count": 42,
     "metadata": {},
     "output_type": "execute_result"
    }
   ],
   "source": []
  },
  {
   "cell_type": "code",
   "execution_count": 43,
   "metadata": {
    "collapsed": false
   },
   "outputs": [],
   "source": [
    "#col_dict = {'type 1':'red','type 1b':'blue','type 2':'orange'}\n",
    "#col_dict = {'type 1':1,'type 1b':2,'type 2':3}\n",
    "#size_dict = {'type 1':10,'type 1b':20,'type 2':30}\n",
    "\n",
    "### http://stackoverflow.com/questions/9401658/how-to-animate-a-scatter-plot\n",
    "\n",
    "def plt_traj2(traj, col_dict, size_dict):\n",
    "    \"\"\"plots a trajectory\"\"\"\n",
    "    ptraj = (traj.ptraj)\n",
    "    \n",
    "    # the first particle determines the size (should be the max here)\n",
    "    size = (ptraj[0][0]).ptype.geometry.size\n",
    "    \n",
    "    fig = plt.figure(figsize=(8,8))\n",
    "    ax = plt.axes(xlim=(0, size), ylim=(0, size))\n",
    "    scat = ax.scatter([],[], c=[], marker='o', lw=2, vmin = 0, vmax=20)\n",
    "        \n",
    "    def init():\n",
    "        scat.set_offsets(np.hstack(([], [])))\n",
    "        return scat,\n",
    "        \n",
    "    def animate(i):\n",
    "        x = [p.pos[0] for p in ptraj[i]]\n",
    "        y = [p.pos[1] for p in ptraj[i]]\n",
    "        cols = [1.*col_dict[p.ptype.name] for p in ptraj[i]]\n",
    "        sizs = [size_dict[p.ptype.name] for p in ptraj[i]]\n",
    "        scat.set_offsets(np.vstack((x, y)).T)\n",
    "        scat._sizes = np.array(sizs)*35\n",
    "        scat.set_array(np.array(cols))\n",
    "        return scat,\n",
    "\n",
    "    anim = animation.FuncAnimation(fig, animate, init_func=init,\n",
    "                               frames=traj.nframes, interval=20, blit=True)\n",
    "    return anim\n",
    "\n",
    "\n",
    "### reshape trajectory for analysis/postprocessing\n",
    "def reshape(traj):\n",
    "    \"\"\"converts a frame-based trajectory into a id-based data-frame\n",
    "    for lifetimes and concentrations\n",
    "    \n",
    "    \"\"\"\n",
    "    pp=[]\n",
    "    for i,frame in enumerate(traj.ptraj):\n",
    "        for part in frame:\n",
    "            pp.append([part.id,part.age,part.pos[0],part.pos[1],i,part.ptype.name])\n",
    "    gg = pd.DataFrame(pp,columns=['ID','age','x','y','frame','type_name'])\n",
    "    return gg\n",
    " "
   ]
  },
  {
   "cell_type": "markdown",
   "metadata": {
    "collapsed": true
   },
   "source": [
    "## define reactions classes\n",
    "\n",
    "reaction class is the used for uni- and bi- molecular reactions\n",
    "each has a method to effect it (i.e. apply it to the inducts and yield the products)\n",
    "and one single rate\n"
   ]
  },
  {
   "cell_type": "code",
   "execution_count": 4,
   "metadata": {
    "collapsed": false
   },
   "outputs": [],
   "source": [
    "class reaction:\n",
    "    \"\"\"base class for reactions, just a name, a rate and a counter\"\"\"\n",
    "    def __init__(self,name,rate):\n",
    "        self.rate = rate\n",
    "        self.name = name\n",
    "        self.counter = 0\n",
    "        #print(self)\n",
    "        \n",
    "    def report(self):\n",
    "        reaction_type = type(self).__name__\n",
    "        print(\"   %s %s: counter %d\" % (reaction_type, self.name, self.counter))\n",
    "        print(\"        rate: %d\"% self.rate)\n",
    "        \n",
    "    def reset(self):\n",
    "        self.counter = 0\n",
    "        \n"
   ]
  },
  {
   "cell_type": "markdown",
   "metadata": {},
   "source": [
    "### uni-molecular reactions\n",
    "ptypes are the inducts (this should be changed)\n",
    "the can be\n",
    "* decay A->0\n",
    "* convert A->B \n",
    "* fission A-> B+C (e.g. unbinding, or dimerization breaking)\n",
    "\n",
    "once could add multiple fission types A->B+C+D, etc."
   ]
  },
  {
   "cell_type": "code",
   "execution_count": 5,
   "metadata": {
    "collapsed": false
   },
   "outputs": [],
   "source": [
    "### ============== UNI_MOLECULAR REACTIONS ===============================\n",
    "        \n",
    "class decay_reaction(reaction):\n",
    "    \"\"\" unimolecular decay with given rate\n",
    "        A -> 0\n",
    "    \"\"\"\n",
    "    def __init__(self, name, rate):\n",
    "        super(decay_reaction,self).__init__(name,rate)\n",
    "        \n",
    "    def effect_reaction(self,particle_in):\n",
    "        self.counter += 1\n",
    "        \n",
    "        ## since we destroy a particle, we need to deghost\n",
    "        particle_in.deghost()\n",
    "        return None\n",
    "    \n",
    "class convert_reaction(reaction):\n",
    "    \"\"\" unimolecular conversion with given rate to given type \n",
    "        A -> B\n",
    "        \n",
    "        the new particle is actually the old one, with new age and type\n",
    "        to allow keeping the energy terms in case this is needed.\n",
    "        default is to keep_energy, use keepenergy=None not to\n",
    "    \"\"\"\n",
    "    def __init__(self,  name, rate, outtype,  keepenergy = 0):\n",
    "        self.outtype=outtype\n",
    "        self.keepenergy = keepenergy\n",
    "        super(convert_reaction,self).__init__( name, rate )\n",
    "        \n",
    "    def effect_reaction(self,particle_in):\n",
    "        self.counter += 1\n",
    "        if self.keepenergy==None:\n",
    "            particle_in.energyterms=[]\n",
    "        ## otherwise energyterms are kept\n",
    "        particle_in.ptype= self.outtype\n",
    "        particle_in.age= 0 \n",
    "        particle_in.id = uuid.uuid4()\n",
    "        ## return a singleton list for consistence with other reactions\n",
    "        return [particle_in]\n",
    "        #return [particle(self.outtype, particle_in.pos )]\n",
    "\n",
    "class fission_reaction(reaction):\n",
    "    \"\"\" unimolecular fission with given rate to given type \n",
    "        A -> B+C\n",
    "        default is to loose all energyterms\n",
    "        use keepenergy=0 to keep them to the first educt, \n",
    "        keepenergy=1 to pass it to the second\n",
    "    \"\"\"\n",
    "    def __init__(self,  name, rate, outtype1, outtype2, keepenergy=None):\n",
    "        self.outtype1=outtype1\n",
    "        self.outtype2=outtype2\n",
    "        self.keepenergy = keepenergy\n",
    "        super(fission_reaction,self).__init__( name, rate)\n",
    "        \n",
    "    def effect_reaction(self,particle_in):\n",
    "        keepenergy = self.keepenergy\n",
    "        self.counter += 1\n",
    "        pos = particle_in.pos\n",
    "        types=[self.outtype1,self.outtype2]\n",
    "        if not keepenergy==None and keepenergy<2:\n",
    "            particle_in.ptype= types[keepenergy]\n",
    "            particle_in.age= 0 \n",
    "            particle_in.id = uuid.uuid4()\n",
    "            particle_out1 = particle_in\n",
    "            particle_out2 = particle(types[1-keepenergy], pos )\n",
    "        else:\n",
    "            particle_out1 = particle(types[0], pos )\n",
    "            particle_out2 = particle(types[1], pos )\n",
    "        return [particle_out1 , particle_out2  ]  "
   ]
  },
  {
   "cell_type": "code",
   "execution_count": 6,
   "metadata": {
    "collapsed": false
   },
   "outputs": [
    {
     "name": "stdout",
     "output_type": "stream",
     "text": [
      "99c96c7f-cab5-4f2d-96d5-67e6fd818426\n",
      "998dabce-a43e-40dc-89d8-615efb9f964b\n"
     ]
    }
   ],
   "source": [
    "membrane=geometry(dim=2,size=20)\n",
    "p1 = ptype(1,\"A1\",membrane)\n",
    "p2 = ptype(1,\"B1\",membrane)\n",
    "\n",
    "#conv = convert_reaction(name=\"con1\",outtype=p2,rate=10,keepenergy=0)\n",
    "#fiss = fission_reaction(name='fission',outtype1=p1,outtype2=p2,rate=2,keepenergy=0)\n",
    "#p1.add_reaction(conv)\n",
    "\n",
    "part1 = particle(p1,np.array([0,0]))\n",
    "part2 = particle(p1,np.array([0,0]))\n",
    "\n",
    "part1.add_energyterm(bondterm(1,1,part2))\n",
    "part2.add_energyterm(bondterm(1,1,part1))\n",
    "\n",
    "print(part1.id)\n",
    "\n",
    "print(part2.id)"
   ]
  },
  {
   "cell_type": "code",
   "execution_count": null,
   "metadata": {
    "collapsed": false
   },
   "outputs": [],
   "source": [
    "part1.deghost()"
   ]
  },
  {
   "cell_type": "code",
   "execution_count": 7,
   "metadata": {
    "collapsed": false
   },
   "outputs": [
    {
     "data": {
      "text/plain": [
       "[<__main__.bondterm at 0x7ff11592e908>]"
      ]
     },
     "execution_count": 7,
     "metadata": {},
     "output_type": "execute_result"
    }
   ],
   "source": [
    "part2.energyterms"
   ]
  },
  {
   "cell_type": "code",
   "execution_count": null,
   "metadata": {
    "collapsed": false
   },
   "outputs": [],
   "source": [
    "#part1.add_energyterm(bond1)\n",
    "#print(part1.id)\n",
    "#part1.energyterms"
   ]
  },
  {
   "cell_type": "code",
   "execution_count": null,
   "metadata": {
    "collapsed": false
   },
   "outputs": [],
   "source": [
    "#part1 = particle(p1,np.array([0,0]))\n",
    "#print(part1.id)\n",
    "#part1.energyterms"
   ]
  },
  {
   "cell_type": "code",
   "execution_count": null,
   "metadata": {
    "collapsed": false
   },
   "outputs": [],
   "source": [
    "#pout = conv.effect_reaction(part1)\n",
    "#print(pout[0].id)\n",
    "#pout[0].energyterms"
   ]
  },
  {
   "cell_type": "code",
   "execution_count": null,
   "metadata": {
    "collapsed": false
   },
   "outputs": [],
   "source": [
    "#pout = fiss.effect_reaction(part1)\n",
    "#pout[1].energyterms"
   ]
  },
  {
   "cell_type": "markdown",
   "metadata": {},
   "source": [
    "### bi-molecular reactions\n",
    "encounter-complexes are the inducts of bi-molecular reactions\n",
    "they contain their reactions as ptypes contain the uni-molecular reactions\n",
    "they can be:\n",
    "* annihilation A+B -> 0\n",
    "* fusion A+B -> C"
   ]
  },
  {
   "cell_type": "code",
   "execution_count": 8,
   "metadata": {
    "collapsed": true
   },
   "outputs": [],
   "source": [
    "#### abstract types of EC\n",
    "### zz=bim_encunter_complex(\"bim1\",p1,p3,.9)\n",
    "#### add reactions to the EC_type\n",
    "### r1 = annihilation_reaction(\"anni1\", 1.1)\n",
    "### r2 = ...\n",
    "### zz.add_reaction(r1)\n",
    "### zz.add_reaction(r2)\n",
    "\n",
    "#### don't confuse with realizations of ECs in the simulation that can be obtained with\n",
    "### zz.get_ec(t.ptraj[100])\n",
    "\n",
    "### for a timestep, cycle over ectypes, get all ECs, \n",
    "### choose reaction for each ec, apply reaction\n",
    "\n",
    "class encunter_complex_type:\n",
    "    def __init__(self, name):\n",
    "        self.name=name\n",
    "        \n",
    "class bim_encunter_complex(encunter_complex_type):\n",
    "    \n",
    "    def __init__(self, name, typ1,typ2, dist):\n",
    "        self.type1 = typ1\n",
    "        self.type2 = typ2\n",
    "        self.dist= dist\n",
    "        self.bim_reactions = []\n",
    "        self.bim_probs = []\n",
    "        super(bim_encunter_complex,self).__init__(name)\n",
    "        \n",
    "    def describe(self):\n",
    "        print(\"Name: %s\" % self.name)\n",
    "        print(\"   Reactions:\")\n",
    "        for reac in self.bim_reactions:\n",
    "            reac.report()\n",
    "        \n",
    "    def add_reaction(self,reaction):\n",
    "        \"\"\"adds a unimolecular_reaction to the list for this particle type\n",
    "        and updates the probabilities function\"\"\"\n",
    "        \n",
    "        ## should check if reaction type is ok ...\n",
    "        (self.bim_reactions).append(reaction)\n",
    "        rates = np.array([rea.rate for rea in self.bim_reactions])\n",
    "        self.bim_probs = rates\n",
    "\n",
    "    def choose_reaction(self,dt):\n",
    "        \"\"\"chooses one reaction (or none) for a given time step\n",
    "        that reaction can then be effected on a particle with effect_reaction\n",
    "        \"\"\"\n",
    "        if len(self.bim_reactions)==0:\n",
    "            return None\n",
    "        else:\n",
    "            rates = self.bim_probs\n",
    "            probs = (rates/rates.sum())*(1 - np.exp( - dt* rates.sum()))\n",
    "            #print(\"Cumulative probs: \",np.cumsum(probs))\n",
    "            alpha=np.random.uniform(size=1)\n",
    "            conf = np.cumsum(probs)>alpha\n",
    "            if any(conf):\n",
    "                ii = np.argmax(conf)\n",
    "                #print(\"Chosen rection %s\" % self.bim_reactions[ii].name)\n",
    "                return self.bim_reactions[ii]\n",
    "            else:\n",
    "                return None\n",
    "            \n",
    "    def get_ec(self,particles_):\n",
    "        \"\"\"returns a list of instances of hte ECtype\n",
    "        each of these are a vector of (two) (index, particle)\n",
    "        bimolecular reactions effect_reaction functions take one of the instances\n",
    "        and modify it\n",
    "        \n",
    "        the bimol react function of the traj loops over the instances,\n",
    "        picks a reaction and reacts it\n",
    "        \"\"\"\n",
    "        p1 = [i for i,p in enumerate(particles_) if p.ptype==self.type1]\n",
    "        p2 = [i for i,p in enumerate(particles_) if p.ptype==self.type2]\n",
    "        ec=[]\n",
    "        #report_pairs=[]\n",
    "        #print(p1)\n",
    "        #print(p2)\n",
    "        used_ones=[]\n",
    "        for q1 in p1:\n",
    "            for q2 in p2:\n",
    "                if not q1 == q2 and not ((q1 in used_ones) or (q2 in used_ones)):\n",
    "                    vec1= particles_[q1].pos - particles_[q2].pos\n",
    "                    #print(vec1)\n",
    "                    dist1= np.sqrt((vec1 * vec1).sum())\n",
    "                    if dist1 < self.dist:\n",
    "                        #report_pairs.append([q1,q2])\n",
    "                        ec.append([particles_[q1],particles_[q2]])\n",
    "                        ## we want particles to be in only one instance\n",
    "                        ## otherwise we can react safely\n",
    "                        used_ones.append(q1)\n",
    "                        used_ones.append(q2)\n",
    "        \n",
    "        #print(report_pairs)\n",
    "        return ec"
   ]
  },
  {
   "cell_type": "code",
   "execution_count": 117,
   "metadata": {
    "collapsed": true
   },
   "outputs": [],
   "source": [
    "class annihilation_reaction(reaction):\n",
    "    \"\"\" annihilation reaction\n",
    "        A + B -> 0\n",
    "    \"\"\"\n",
    "    def __init__(self, name, rate):\n",
    "        super(annihilation_reaction,self).__init__(name,rate)\n",
    "        \n",
    "    def effect_reaction(self,encunter_complex_in):\n",
    "        \n",
    "        for part in encunter_complex_in:\n",
    "            part.deghost()\n",
    "        self.counter += 1\n",
    "        return None\n",
    "\n",
    "class fusion_reaction(reaction):\n",
    "    \"\"\" fusion reaction\n",
    "        A + B -> C\n",
    "        default is to keep all energy (e.g. keep bonds to both inducts)\n",
    "    \"\"\"\n",
    "    def __init__(self, name, rate, outtype,keepenergy=[0,1]):\n",
    "        self.outtype = outtype\n",
    "        self.keepenergy=keepenergy\n",
    "        super(fusion_reaction,self).__init__(name,rate)\n",
    "        \n",
    "    def effect_reaction(self,encunter_complex_in):\n",
    "        self.counter += 1\n",
    "        pos = None ## get particle pos in encounter complex in and average\n",
    "        poss = [part.pos for part in encunter_complex_in]\n",
    "        #print([part[0] for part in encunter_complex_in])    \n",
    "        if not self.keepenergy == None:\n",
    "            ## if only one, copy it and deghost the other\n",
    "            ## if both, copy one, deghost the other assigning to the kept particle\n",
    "            raise\n",
    "        return [particle(self.outtype, poss[0])]\n",
    "    \n",
    "\n"
   ]
  },
  {
   "cell_type": "code",
   "execution_count": 9,
   "metadata": {
    "collapsed": false
   },
   "outputs": [],
   "source": [
    "class ensemble(object):\n",
    "    def __init__(self, trajs=[]):\n",
    "        if not isinstance(trajs, list):\n",
    "            trajs=[trajs]\n",
    "        self.trajs=trajs\n",
    "        self.params=[]\n",
    "    \n",
    "    def describe(self):\n",
    "        print(\"Ensemble has %d trajectories\" % len(self.trajs))\n",
    "        for t in self.trajs:\n",
    "            t.describe()\n",
    "    \n",
    "    def add_traj(self,traj):\n",
    "        (self.trajs).append(traj)\n",
    "        \n",
    "    def lifetimes(self,doplot=True):\n",
    "        \"\"\"plots the lifetime distributions of the different species in the ensemble\n",
    "        returns a grouped set by species with the individual lifetimes\n",
    "        \"\"\"\n",
    "        res_list=[]\n",
    "        trj_index = np.array(range(len(self.trajs))).astype('str')\n",
    "        for t in self.trajs:\n",
    "            ## get lifetime for all particles, flatten and drop ID\n",
    "            tr = reshape(t).groupby(by=['ID','type_name']).agg({'age':'max'})\n",
    "            tr2 = tr.rename(index=str).reset_index().drop('ID',axis=1)\n",
    "            res_list.append(tr2)\n",
    "        lifes = pd.concat(res_list,ignore_index=True)\n",
    "        if doplot:\n",
    "            plt.figure()\n",
    "            axes = lifes.hist(by='type_name', bins=30)\n",
    "            #for ax in np.ravel(axes):\n",
    "            #    ax.set_xlabel(\"lifetime (frames)\")\n",
    "            #    ax.set_ylabel(\"freq\")\n",
    "            plt.tight_layout()\n",
    "            plt.show()\n",
    "        lifes2 = lifes.groupby('type_name')\n",
    "        return lifes2\n",
    "    \n",
    "    def concentrations(self,species,init_val=0,doplot=True):\n",
    "        ### get concentrations as a function of frame\n",
    "        ### group by frame and type, then count particles of each type\n",
    "        res_list=[]\n",
    "        for i,t in enumerate(self.trajs):\n",
    "            ## get lifetime for all particles, flatten and drop ID\n",
    "            tr = reshape(t).groupby(by=['frame','type_name']).agg({'ID':'count'})\n",
    "            tr['trj_in']=str(i)\n",
    "            tr2 =tr.rename(index=str).reset_index()\n",
    "            res_list.append(tr2)\n",
    "        counts = pd.concat(res_list,ignore_index=True)\n",
    "        \n",
    "        \n",
    "        ## group_by species and select the one we want\n",
    "        rr=counts.groupby('type_name').get_group(species)\n",
    "        ## clean up the pandas mess and sort\n",
    "        rr=rr.fillna(0).drop('type_name',1)\n",
    "        rr3=rr.groupby('frame').agg({'ID':{'mea':'mean', 'sd':'std'}}).rename(index=str).reset_index()\n",
    "        rr4=rr3.set_index(rr3.frame)\n",
    "        rr4.index = rr4.index.astype('int')\n",
    "        rr5=rr4.sort_index()\n",
    "\n",
    "        ## fit with specified initial value\n",
    "        import scipy\n",
    "        vals1=scipy.optimize.curve_fit(\n",
    "        lambda t,a,b: a*(1-np.exp(-t/b)),\n",
    "            np.array(rr5.ID.mea.index),  np.array(rr5.ID.mea)-init_val )\n",
    "\n",
    "        if doplot:\n",
    "            fun = lambda t: vals1[0][0]*(1-np.exp(-t/vals1[0][1]))\n",
    "\n",
    "            plt.plot(np.array(rr5.ID.mea.index),  np.array(rr5.ID.mea), label=species)\n",
    "            plt.plot(np.array(rr5.ID.mea.index), fun(np.array(rr5.ID.mea.index)))\n",
    "            plt.legend()\n",
    "            plt.show()\n",
    "            \n",
    "        return vals1,rr5\n",
    "\n",
    "        \n",
    "#    def save(self,filename):        \n",
    "#    def load(self,filename):\n",
    "        "
   ]
  },
  {
   "cell_type": "markdown",
   "metadata": {},
   "source": [
    "## define a class to run the simulation\n",
    "wraps in progress bar class, calls the integrator for diffusive motion, then reacts uni-molecular and bi-molecular (tri-molecular, etc.) reactions"
   ]
  },
  {
   "cell_type": "code",
   "execution_count": 241,
   "metadata": {
    "collapsed": true
   },
   "outputs": [],
   "source": [
    "from pyemma._base.progress import ProgressReporter\n",
    "\n",
    "class runner(ProgressReporter):\n",
    "    def __init__(self, nframes, timestep, stride=1):\n",
    "        self.nframes = nframes\n",
    "        self.timestep = timestep\n",
    "        self.stride= stride\n",
    "        self._progress_register(nframes,\"Running simulation\")\n",
    "    \n",
    "    def run(self, t2, reactions_mono= None, reactions_bim=None,verbose=True ,kT=None):\n",
    "        if verbose:\n",
    "            t2.describe()\n",
    "        for i in range(self.nframes):\n",
    "            if (i % self.stride)==0:\n",
    "                #print(\"storing: %d\" % i)\n",
    "                t2.store()\n",
    "            t2.step(self.timestep,kT)\n",
    "            t2.react_unimolecular(self.timestep)\n",
    "            if reactions_bim!=None:\n",
    "                t2.react_bimolecular(self.timestep, reactions_bim)   \n",
    "            self._progress_update(1)\n",
    "        if verbose:\n",
    "            t2.describe()\n",
    "        ### report bimolecular complexes reactions\n",
    "        if verbose:\n",
    "            if reactions_bim!=None:\n",
    "                for zz in reactions_bim:\n",
    "                    zz.describe()"
   ]
  },
  {
   "cell_type": "code",
   "execution_count": 242,
   "metadata": {
    "collapsed": false
   },
   "outputs": [],
   "source": [
    "def random_init(n, types_list, fractions=[], cellsize=20):\n",
    "    \"\"\"aux function to create a randomized initial state \n",
    "    with a concentrations or the \"\"\"\n",
    "    if not isinstance(types_list,list):\n",
    "        types_list=[types_list]\n",
    "    if len(fractions)==0:\n",
    "        fractions=np.ones(len(types_list))\n",
    "        fractions = fractions/fractions.sum()\n",
    "    counts = (n*fractions).astype('int')\n",
    "    init_pos=[]\n",
    "    for i, parttype in enumerate(types_list):\n",
    "        for j in range(counts[i]):\n",
    "            p = particle(parttype, \n",
    "                         pos=np.random.uniform(high=cellsize,low=0,size=2),age=0)\n",
    "            init_pos.append(p)\n",
    "            \n",
    "    return traj(init_pos)\n",
    "\n",
    "    "
   ]
  },
  {
   "cell_type": "markdown",
   "metadata": {},
   "source": [
    "# SIMULATION "
   ]
  },
  {
   "cell_type": "markdown",
   "metadata": {},
   "source": [
    "##### initialize the system\n",
    "define which particles we have, and how they react."
   ]
  },
  {
   "cell_type": "markdown",
   "metadata": {},
   "source": [
    "# analysis and post processing"
   ]
  },
  {
   "cell_type": "code",
   "execution_count": null,
   "metadata": {
    "collapsed": true
   },
   "outputs": [],
   "source": [
    "### do a movie of the trajectory (can be slowish to generate)"
   ]
  },
  {
   "cell_type": "code",
   "execution_count": null,
   "metadata": {
    "collapsed": false
   },
   "outputs": [],
   "source": [
    "col_dict = {'mono':0,'dimer':7, 'mono_mem':6, 'dimer2':15, 'mono_mem2':14, 'dimer4':20}\n",
    "size_dict = {'mono':2,'dimer':5,'mono_mem':2, 'dimer2':5, 'mono_mem2':2, 'dimer4':5}\n",
    "aa = plt_traj2(sett[1],col_dict, size_dict)\n",
    "HTML(aa.to_html5_video())\n"
   ]
  },
  {
   "cell_type": "code",
   "execution_count": null,
   "metadata": {
    "collapsed": true
   },
   "outputs": [],
   "source": [
    "aa.save('im.mp4')"
   ]
  },
  {
   "cell_type": "markdown",
   "metadata": {},
   "source": [
    "### liftimes"
   ]
  },
  {
   "cell_type": "code",
   "execution_count": null,
   "metadata": {
    "collapsed": false
   },
   "outputs": [],
   "source": [
    "## analyse life-time distribution and concentration of all species as a functin of time\n",
    "## remember final semi column to prevent double plot\n",
    "zz=em1.lifetimes(doplot=True);"
   ]
  },
  {
   "cell_type": "code",
   "execution_count": null,
   "metadata": {
    "collapsed": false
   },
   "outputs": [],
   "source": [
    "t=zz.get_group('dimer2')\n",
    "uu=t.drop('type_name',1).dropna()\n",
    "hist, bin_edges = np.histogram(uu.age,bins=50)\n",
    "plt.plot(hist,marker='o')\n",
    "plt.show()"
   ]
  },
  {
   "cell_type": "markdown",
   "metadata": {},
   "source": [
    "### concentration and dimeric fractions"
   ]
  },
  {
   "cell_type": "code",
   "execution_count": null,
   "metadata": {
    "collapsed": false
   },
   "outputs": [],
   "source": [
    "ff = (em1.concentrations())\n",
    "gg=ff.groupby('type_name')\n",
    "rr=gg.get_group('dimer4')\n",
    "rr=rr.fillna(0).drop('type_name',1)\n",
    "#rr2 = rr.pivot(index='frame', columns='trj_in', values='ID')\n",
    "rr3=rr.groupby('frame').agg({'ID':{'mea':'mean', 'sd':'std'}}).rename(index=str).reset_index()\n",
    "#rr3.index = rr3.index.astype('int')\n",
    "#rr3.head()\n",
    "rr4=rr3.set_index(rr3.frame)\n",
    "rr4.index = rr4.index.astype('int')\n",
    "rr5=rr4.sort_index()\n",
    "#rr5.head()"
   ]
  },
  {
   "cell_type": "code",
   "execution_count": null,
   "metadata": {
    "collapsed": false
   },
   "outputs": [],
   "source": [
    "rr5.plot()\n",
    "plt.show()"
   ]
  },
  {
   "cell_type": "markdown",
   "metadata": {},
   "source": [
    "#### concentration fluctuations at equilibrium\n",
    "calculate the full distribution of concentrations at steady state"
   ]
  },
  {
   "cell_type": "code",
   "execution_count": null,
   "metadata": {
    "collapsed": true
   },
   "outputs": [],
   "source": [
    "### do for different concentrations and diffusions"
   ]
  },
  {
   "cell_type": "code",
   "execution_count": null,
   "metadata": {
    "collapsed": true
   },
   "outputs": [],
   "source": [
    "def setup_system(copynumber, diffusion, rates):\n",
    "    \"\"\"\n",
    "    setup a trajectory for different system parameters\n",
    "    \"\"\"\n",
    "\n",
    "    ## create particle types and their unimolecular reactions\n",
    "    membrane = geometry(dim=2,size=20)\n",
    "    q1 = ptype(diffusion['mono'],\"mono\",membrane)\n",
    "    q2 = ptype(diffusion['dimer'],\"dimer\",membrane)\n",
    "    \n",
    "    ## dimer disruption into states that remember their orientation\n",
    "    q2.add_reaction( \n",
    "        fission_reaction(\"fission 1\", \n",
    "                         rate=rates['on'], \n",
    "                         outtype1=q1, outtype2=q1, keepenergy=None) )\n",
    "    ## Dimerization 1: monomers bind to form interface, from any angular state\n",
    "    zz1=bim_encunter_complex(\"dimerization_EC\",q1,q1,dist=0.3)\n",
    "    r23 = fusion_reaction(\"dimerization 1\", rate=rates['off'], outtype=q2, keepenergy=None)\n",
    "    zz1.add_reaction(r23)\n",
    "\n",
    "    ## collect all the bimolecular reactions\n",
    "    bim_inducts = [zz1]\n",
    "\n",
    "    t2 = random_init(copynumber,[q1])\n",
    "    t2.describe()\n",
    "    return (t2 , bim_inducts)\n"
   ]
  },
  {
   "cell_type": "code",
   "execution_count": null,
   "metadata": {
    "collapsed": false
   },
   "outputs": [],
   "source": [
    "import itertools\n",
    "n_replicas=20\n",
    "totvals=[]\n",
    "\n",
    "params = itertools.product([1e-1,5e-2,1e-2],[0.05,0.1,0.3])\n",
    "for iset, (diff,rateon) in enumerate(params):\n",
    "    sett = []\n",
    "    for i in range(n_replicas):\n",
    "        t2, reacts = setup_system(30,\n",
    "            diffusion = {'mono':diff, 'dimer':1.5e-2} , \n",
    "            rates = {'on':rateon ,'off':10. })\n",
    "        run_1000steps = runner(20000, timestep = .1, stride=10)\n",
    "        run_1000steps.run(t2, reactions_bim = reacts ,verbose=False)\n",
    "        sett.append(t2)\n",
    "    \n",
    "    em1 = ensemble(sett)\n",
    "    em1.describe()\n",
    "\n",
    "    val, rr5 = em1.concentrations(\"dimer\",init_val=0)\n",
    "    totvals.append((diff,rateon, val))"
   ]
  },
  {
   "cell_type": "code",
   "execution_count": null,
   "metadata": {
    "collapsed": false
   },
   "outputs": [],
   "source": [
    "res1=pd.DataFrame([[va[0],va[1],va[2][0][0],va[2][0][1]] for va in totvals],\n",
    "            columns=['Diffusion','RateOn','fraction','time']\n",
    "            )"
   ]
  },
  {
   "cell_type": "code",
   "execution_count": null,
   "metadata": {
    "collapsed": false
   },
   "outputs": [],
   "source": [
    "res2=res1.groupby('Diffusion')\n",
    "res2.indices\n",
    "res2.get_group(0.01)"
   ]
  },
  {
   "cell_type": "code",
   "execution_count": null,
   "metadata": {
    "collapsed": true
   },
   "outputs": [],
   "source": [
    "species='dimer'\n",
    "init_val = 0\n",
    "## group_by species and select the one we want\n",
    "rr=counts.groupby('type_name').get_group(species)\n",
    "## clean up the pandas mess and sort\n",
    "rr=rr.fillna(0).drop('type_name',1)\n",
    "rr3=rr.groupby('frame').agg({'ID':{'mea':'mean', 'sd':'std'}}).rename(index=str).reset_index()\n",
    "rr4=rr3.set_index(rr3.frame)\n",
    "rr4.index = rr4.index.astype('int')\n",
    "rr5=rr4.sort_index()\n",
    "\n",
    "## fit with specified initial value\n",
    "import scipy\n",
    "vals1=scipy.optimize.curve_fit(\n",
    "    lambda t,a,b: a*(1-np.exp(-b*t)),  \n",
    "                     np.array(rr5.ID.mea.index),  np.array(rr5.ID.mea)-init_val )\n",
    "\n",
    "return vals1,rr5"
   ]
  },
  {
   "cell_type": "code",
   "execution_count": null,
   "metadata": {
    "collapsed": false
   },
   "outputs": [],
   "source": [
    "zz=em1.lifetimes(doplot=True);"
   ]
  },
  {
   "cell_type": "code",
   "execution_count": null,
   "metadata": {
    "collapsed": false
   },
   "outputs": [],
   "source": [
    "col_dict = {'mono':0,'dimer':7}\n",
    "size_dict = {'mono':2,'dimer':5}\n",
    "aa = plt_traj2(em1.trajs[0],col_dict, size_dict)\n",
    "HTML(aa.to_html5_video())"
   ]
  },
  {
   "cell_type": "code",
   "execution_count": null,
   "metadata": {
    "collapsed": true
   },
   "outputs": [],
   "source": []
  },
  {
   "cell_type": "markdown",
   "metadata": {},
   "source": [
    "### Test for bonds"
   ]
  },
  {
   "cell_type": "code",
   "execution_count": 11,
   "metadata": {
    "collapsed": false
   },
   "outputs": [
    {
     "name": "stdout",
     "output_type": "stream",
     "text": [
      "3\n",
      "[1, 2, 1]\n"
     ]
    }
   ],
   "source": [
    "membrane = geometry(dim=2,size=20)\n",
    "q0 = ptype(0,\"anchor\",membrane)\n",
    "q1 = ptype(5e-2,\"mono\",membrane)\n",
    "\n",
    "\n",
    "rel=decay_reaction(name='release',rate=.005)\n",
    "q0.add_reaction(rel)\n",
    "\n",
    "q = particle(q0,pos=np.array([10,10]),age=0)\n",
    "init_pos=[q]\n",
    "bonds=[bondterm(10,.1,q)]\n",
    "\n",
    "for i in range(1,3):\n",
    "    p = particle(q1,pos=np.array([10,10+i]),age=0)\n",
    "    init_pos.append(p)\n",
    "    b = bondterm(10,.1,p)\n",
    "    bonds.append(b)\n",
    "\n",
    "print(len(bonds))    \n",
    "\n",
    "for i,p in enumerate(init_pos):\n",
    "    if i<len(bonds)-1:\n",
    "        p.add_energyterm(bonds[i+1])\n",
    "    if i>0:\n",
    "        p.add_energyterm(bonds[i-1])\n",
    "\n",
    "print([len(p.energyterms) for p in init_pos])\n",
    "t = traj(init_pos)"
   ]
  },
  {
   "cell_type": "code",
   "execution_count": null,
   "metadata": {
    "collapsed": false
   },
   "outputs": [],
   "source": [
    "runnr = runner(2000, timestep = .1, stride=10)\n",
    "runnr.run(t,verbose=True, kT=.1)"
   ]
  },
  {
   "cell_type": "code",
   "execution_count": null,
   "metadata": {
    "collapsed": false
   },
   "outputs": [],
   "source": [
    "col_dict = {'mono':0,'anchor':7}\n",
    "size_dict = {'mono':2,'anchor':5}\n",
    "aa = plt_traj2(t,col_dict, size_dict)\n",
    "HTML(aa.to_html5_video())"
   ]
  },
  {
   "cell_type": "code",
   "execution_count": null,
   "metadata": {
    "collapsed": true
   },
   "outputs": [],
   "source": []
  },
  {
   "cell_type": "code",
   "execution_count": null,
   "metadata": {
    "collapsed": false
   },
   "outputs": [],
   "source": [
    "membrane = geometry(dim=2,size=20)\n",
    "q0 = ptype(0,\"anchor\",membrane)\n",
    "q1 = ptype(5e-2,\"mono\",membrane)\n",
    "\n",
    "\n",
    "#rel=decay_reaction(name='release',rate=.005)\n",
    "#q0.add_reaction(rel)\n",
    "\n",
    "q = particle(q0,pos=np.array([10,10]),age=0)\n",
    "init_pos=[q]\n",
    "bonds=[bondterm(10,.1,q)]\n",
    "\n",
    "for i in range(1,5):\n",
    "    p = particle(q1,pos=np.array([10,10+i]),age=0)\n",
    "    init_pos.append(p)\n",
    "    b = bondterm(10,.1,p)\n",
    "    bonds.append(b)\n",
    "\n",
    "print(len(bonds))    \n",
    "\n",
    "for i,p in enumerate(init_pos):\n",
    "    if i<len(bonds)-1:\n",
    "        p.add_energyterm(bonds[i+1])\n",
    "    if i>0:\n",
    "        p.add_energyterm(bonds[i-1])\n",
    "\n",
    "print([len(p.energyterms) for p in init_pos])\n",
    "t = traj(init_pos)"
   ]
  },
  {
   "cell_type": "code",
   "execution_count": null,
   "metadata": {
    "collapsed": false
   },
   "outputs": [],
   "source": [
    "runnr2 = runner(10000, timestep = .1, stride=10)\n",
    "runnr2.run(t,verbose=True, kT=.1)"
   ]
  },
  {
   "cell_type": "code",
   "execution_count": null,
   "metadata": {
    "collapsed": false
   },
   "outputs": [],
   "source": [
    "pos4 = [np.vstack([frame[i].pos for frame in t.ptraj]) for i in range(4)]"
   ]
  },
  {
   "cell_type": "code",
   "execution_count": null,
   "metadata": {
    "collapsed": false
   },
   "outputs": [],
   "source": [
    "[plt.plot(pos4[i][:,0],pos4[i][:,1]) for i in range(4)]\n",
    "plt.show()"
   ]
  },
  {
   "cell_type": "code",
   "execution_count": null,
   "metadata": {
    "collapsed": false
   },
   "outputs": [],
   "source": [
    "col_dict = {'mono':0,'anchor':7}\n",
    "size_dict = {'mono':2,'anchor':5}\n",
    "aa = plt_traj2(t,col_dict, size_dict)\n",
    "HTML(aa.to_html5_video())"
   ]
  },
  {
   "cell_type": "markdown",
   "metadata": {
    "collapsed": true
   },
   "source": [
    "#### hard spheres"
   ]
  },
  {
   "cell_type": "code",
   "execution_count": 250,
   "metadata": {
    "collapsed": false
   },
   "outputs": [],
   "source": [
    "membrane = geometry(dim=2,size=5)\n",
    "q1 = ptype(5e-2,\"mono\",membrane)\n",
    "a = particle(q1,pos=np.array([2,2]),age=0)\n",
    "b = particle(q1,pos=np.array([0,0]),age=0)\n",
    "init_pos=[a,b]\n",
    "hca = hardcore(50.,.5,a)\n",
    "hcb = hardcore(50.,.5,b)\n",
    "b.add_energyterm(hca)\n",
    "a.add_energyterm(hcb)\n",
    "cov1 = bondterm(k=10.,d=.8)\n",
    "\n",
    "ec1=bim_encunter_complex(\"grab\",q1,q1,dist=1)\n",
    "rea1 = bond_formation_reaction(\"dimerization 1\", rate=.1, bonds=cov1)\n",
    "ec1.add_reaction(rea1)\n",
    "rea2 = bond_breaking_reaction(\"disruption 1\", rate=.01, bonds=cov1)\n",
    "ec1.add_reaction(rea2)\n",
    "t = traj(init_pos)"
   ]
  },
  {
   "cell_type": "code",
   "execution_count": null,
   "metadata": {
    "collapsed": false
   },
   "outputs": [
    {
     "name": "stdout",
     "output_type": "stream",
     "text": [
      "Length 1 (0)\n"
     ]
    }
   ],
   "source": [
    "runnr2 = runner(200000, timestep = .1, stride=20)\n",
    "runnr2.run(t,reactions_bim=[ec1], verbose=True, kT=.1)"
   ]
  },
  {
   "cell_type": "code",
   "execution_count": null,
   "metadata": {
    "collapsed": false
   },
   "outputs": [],
   "source": [
    "col_dict = {'mono':0,'anchor':7}\n",
    "size_dict = {'mono':2,'anchor':5}\n",
    "aa = plt_traj2(t,col_dict, size_dict)\n",
    "HTML(aa.to_html5_video())"
   ]
  },
  {
   "cell_type": "code",
   "execution_count": 232,
   "metadata": {
    "collapsed": false
   },
   "outputs": [
    {
     "data": {
      "image/png": "[encoded data removed]",
      "text/plain": [
       "<matplotlib.figure.Figure at 0x7ff0ffb97400>"
      ]
     },
     "metadata": {},
     "output_type": "display_data"
    }
   ],
   "source": [
    "dis = np.array([pbcdist(frame[0],frame[1]) for frame in t.ptraj])\n",
    "plt.plot(dis)\n",
    "plt.axhline(y=.5)\n",
    "plt.show()"
   ]
  },
  {
   "cell_type": "code",
   "execution_count": 233,
   "metadata": {
    "collapsed": false
   },
   "outputs": [
    {
     "data": {
      "image/png": "[encoded data removed]",
      "text/plain": [
       "<matplotlib.figure.Figure at 0x7ff0fee51908>"
      ]
     },
     "metadata": {},
     "output_type": "display_data"
    }
   ],
   "source": [
    "val,bi = np.histogram(dis,bins=50)\n",
    "plt.plot((bi[:-1]+bi[1:])/2.,val)\n",
    "plt.show()"
   ]
  },
  {
   "cell_type": "code",
   "execution_count": 234,
   "metadata": {
    "collapsed": false
   },
   "outputs": [],
   "source": [
    "class bond_formation_reaction(reaction):\n",
    "    \"\"\"\n",
    "    creates a bond of given type between two particles\n",
    "    \"\"\"    \n",
    "    def __init__(self, name, rate, bonds, ):\n",
    "        self.bonds = bonds\n",
    "        super(bond_formation_reaction,self).__init__(name,rate)\n",
    "        \n",
    "    def effect_reaction(self,encunter_complex_in):\n",
    "        p0 = encunter_complex_in[0]\n",
    "        p1 = encunter_complex_in[1]\n",
    "        if not(any([term.name==self.bonds.name for term in p0.energyterms])):\n",
    "            #print(\"%s: effect it\"%self.name)\n",
    "            self.counter += 1\n",
    "            bonds = [deepcopy(self.bonds),deepcopy(self.bonds)]\n",
    "            bonds[0].assign_partner(p0)\n",
    "            bonds[1].assign_partner(p1)\n",
    "            p0.add_energyterm(bonds[1])\n",
    "            p1.add_energyterm(bonds[0])\n",
    "        return [p0,p1]\n",
    "        \n",
    "    \n",
    "\n",
    "class bond_breaking_reaction(reaction):\n",
    "    \"\"\"\n",
    "    breaks abond (type??)\n",
    "    \"\"\"\n",
    "    def __init__(self, name, rate, bonds):\n",
    "        self.bonds = bonds\n",
    "        super(bond_breaking_reaction,self).__init__(name,rate)\n",
    "    \n",
    "    def effect_reaction(self,encunter_complex_in):\n",
    "        p0 = encunter_complex_in[0]\n",
    "        p1 = encunter_complex_in[1]\n",
    "        #look for the term with the right name\n",
    "        n0 = [term.name==self.bonds.name and term.partner==p1 for term in p0.energyterms]\n",
    "        n1 = [term.name==self.bonds.name and term.partner==p0 for term in p1.energyterms]\n",
    "\n",
    "        if any(n0) and any(n1):\n",
    "            m0 = list(np.where(n0)[0])\n",
    "            m1 = list(np.where(n1)[0])\n",
    "            #print(m0)\n",
    "            #print(m1)\n",
    "            #print(\"%s effect breaking ==== \"%self.name )\n",
    "            self.counter += 1\n",
    "            del(p0.energyterms[m0[0]])\n",
    "            del(p1.energyterms[m1[0]])\n",
    "        return [p0,p1]"
   ]
  },
  {
   "cell_type": "code",
   "execution_count": 235,
   "metadata": {
    "collapsed": true
   },
   "outputs": [],
   "source": [
    "def pbcdist(p1,p2):\n",
    "    box = p1.ptype.geometry.size\n",
    "    pos1 = p1.pos - np.floor(p1.pos/box) * box\n",
    "    pos2 = p2.pos - np.floor(p2.pos/box) * box\n",
    "    delta = (pos1 - pos2)\n",
    "    delta = delta - np.rint(delta/box)* box\n",
    "    return np.sqrt((delta*delta).sum())"
   ]
  },
  {
   "cell_type": "code",
   "execution_count": 243,
   "metadata": {
    "collapsed": false
   },
   "outputs": [
    {
     "name": "stdout",
     "output_type": "stream",
     "text": [
      "Ensemble has 5 trajectories\n",
      "Length 5001 (5000)\n",
      "Length 5001 (5000)\n",
      "Length 5001 (5000)\n",
      "Length 5001 (5000)\n",
      "Length 5001 (5000)\n"
     ]
    }
   ],
   "source": [
    "\n",
    "def setup_dim():\n",
    "    membrane = geometry(dim=2,size=5)\n",
    "    q1 = ptype(5e-2,\"mono\",membrane)\n",
    "    a = particle(q1,pos=np.array([2,2]),age=0)\n",
    "    b = particle(q1,pos=np.array([0,0]),age=0)\n",
    "    init_pos=[a,b]\n",
    "    hca = hardcore(50.,.5,a)\n",
    "    hcb = hardcore(50.,.5,b)\n",
    "    b.add_energyterm(hca)\n",
    "    a.add_energyterm(hcb)\n",
    "    cov1 = bondterm(k=10.,d=.8)\n",
    "\n",
    "    ec1=bim_encunter_complex(\"grab\",q1,q1,dist=1)\n",
    "    rea1 = bond_formation_reaction(\"dimerization 1\", rate=.1, bonds=cov1)\n",
    "    ec1.add_reaction(rea1)\n",
    "    rea2 = bond_breaking_reaction(\"disruption 1\", rate=.01, bonds=cov1)\n",
    "    ec1.add_reaction(rea2)\n",
    "    t = traj(init_pos)\n",
    "    return (t, [ec1])\n",
    "\n",
    "\n",
    "n_replicas=5\n",
    "sett = []\n",
    "for i in range(n_replicas):\n",
    "    t2, reacts = setup_dim()\n",
    "    run1 = runner(100000, timestep = .1,stride=20)\n",
    "    run1.run(t2, reactions_bim = reacts ,verbose=False)\n",
    "    sett.append(t2)\n",
    "    \n",
    "em1 = ensemble(sett)\n",
    "em1.describe()"
   ]
  },
  {
   "cell_type": "code",
   "execution_count": 246,
   "metadata": {
    "collapsed": false
   },
   "outputs": [
    {
     "data": {
      "text/plain": [
       "<__main__.traj at 0x7ff0fda8ee48>"
      ]
     },
     "execution_count": 246,
     "metadata": {},
     "output_type": "execute_result"
    }
   ],
   "source": [
    "em1.trajs[0]"
   ]
  },
  {
   "cell_type": "code",
   "execution_count": 248,
   "metadata": {
    "collapsed": true
   },
   "outputs": [],
   "source": [
    "distances=[]\n",
    "for tr in em1.trajs:\n",
    "    dis = np.array([pbcdist(frame[0],frame[1]) for frame in tr.ptraj])\n",
    "    distances.append(dis)\n",
    "\n",
    "dis=np.concatenate(distances)"
   ]
  },
  {
   "cell_type": "code",
   "execution_count": 249,
   "metadata": {
    "collapsed": false
   },
   "outputs": [
    {
     "data": {
      "image/png": "[encoded data removed]",
      "text/plain": [
       "<matplotlib.figure.Figure at 0x7ff0fdf31e48>"
      ]
     },
     "metadata": {},
     "output_type": "display_data"
    }
   ],
   "source": [
    "val,bi = np.histogram(dis,bins=50)\n",
    "plt.plot((bi[:-1]+bi[1:])/2.,val)\n",
    "plt.show()"
   ]
  },
  {
   "cell_type": "code",
   "execution_count": null,
   "metadata": {
    "collapsed": true
   },
   "outputs": [],
   "source": []
  }
 ],
 "metadata": {
  "anaconda-cloud": {},
  "kernelspec": {
   "display_name": "Python [conda env:mylab3]",
   "language": "python",
   "name": "conda-env-mylab3-py"
  },
  "language_info": {
   "codemirror_mode": {
    "name": "ipython",
    "version": 3
   },
   "file_extension": ".py",
   "mimetype": "text/x-python",
   "name": "python",
   "nbconvert_exporter": "python",
   "pygments_lexer": "ipython3",
   "version": "3.5.2"
  },
  "widgets": {
   "state": {
    "935f20d6242f42228ed24ab01e39a96a": {
     "views": [
      {
       "cell_index": 62
      }
     ]
    }
   },
   "version": "1.2.0"
  }
 },
 "nbformat": 4,
 "nbformat_minor": 1
}
