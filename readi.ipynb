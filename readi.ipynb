{
 "cells": [
  {
   "cell_type": "markdown",
   "metadata": {},
   "source": [
    "## reaction diffusion simulations"
   ]
  },
  {
   "cell_type": "code",
   "execution_count": 1,
   "metadata": {
    "collapsed": true
   },
   "outputs": [],
   "source": [
    "import numpy as np\n",
    "import pandas as pd\n",
    "import uuid\n",
    "\n",
    "import matplotlib.pyplot as plt\n",
    "import matplotlib.animation as animation\n",
    "from IPython.display import HTML"
   ]
  },
  {
   "cell_type": "markdown",
   "metadata": {},
   "source": [
    "### define particles and trajectory classes\n",
    "only property of particle-types is diffusion and a geometry object\n",
    "\n",
    "**to clean up**\n",
    "particle types contain their uni-molecular reactions but this should be separated to mirror the case of bi-molecular reactions. i.e define inducts (uni and bi-), each induc class has a method to get their instances in the simulation.\n",
    "traj has uni- and b- reactors, that call the method, loop over the reactions associated with the inducts, and effects them"
   ]
  },
  {
   "cell_type": "code",
   "execution_count": 2,
   "metadata": {
    "collapsed": false
   },
   "outputs": [],
   "source": [
    "class ptype:\n",
    "    \"\"\"basic particle type, with name and physical properties\n",
    "    it also has a list of unimolecular reactions A -> products\n",
    "    \"\"\"\n",
    "    def __init__(self,diffusion,name,geometry):\n",
    "        self.diffusion=diffusion\n",
    "        self.name=name\n",
    "        self.unimolecular_reactions = []\n",
    "        self.unimolecular_probs = []\n",
    "        self.geometry= geometry\n",
    "        \n",
    "    def add_reaction(self,reaction):\n",
    "        \"\"\"adds a unimolecular_reaction to the list for this particle type\n",
    "        and updates the probabilities function\"\"\"\n",
    "        (self.unimolecular_reactions).append(reaction)\n",
    "        rates = np.array([rea.rate for rea in self.unimolecular_reactions])\n",
    "        self.unimolecular_probs = rates\n",
    "        \n",
    "    def choose_reaction(self,dt):\n",
    "        \"\"\"chooses one reaction (or none) for a given time step\n",
    "        that reaction can then be effected on a particle with effect_reaction\n",
    "        \"\"\"\n",
    "        if len(self.unimolecular_probs)==0:\n",
    "            return None\n",
    "        else:\n",
    "            rates = self.unimolecular_probs\n",
    "            probs = (rates/rates.sum())*(1 - np.exp( - dt* rates.sum()))\n",
    "            #print(\"Cumulative probs: \",np.cumsum(probs))\n",
    "            alpha=np.random.uniform(size=1)\n",
    "            conf = np.cumsum(probs)>alpha\n",
    "            if any(conf):\n",
    "                ii = np.argmax(conf)\n",
    "                #print(\"Chosen rection %s\" % self.unimolecular_reactions[ii].name)\n",
    "                return self.unimolecular_reactions[ii]\n",
    "            else:\n",
    "                return None\n",
    "        \n",
    "\n",
    "class geometry(object):\n",
    "    \"\"\"a basic basic geometry specification\n",
    "    ideally it would include boundary conditions, dimensionality\n",
    "    external potentials, etc. \n",
    "    It's used to evolve the dynamics of particles, \n",
    "    so each particle type is attached to a geometry object at construction\n",
    "    \"\"\"\n",
    "    def __init__(self, size, dim=2):\n",
    "        self.dim=dim\n",
    "        self.size=size\n",
    "        self.bc='pbc'\n",
    "        \n",
    "        \n",
    "        \n",
    "class particle:\n",
    "    \"\"\"particle instance, it has an id, position, age, types, etc.\"\"\"\n",
    "    def __init__(self, ptype, pos, age = 0, id = None ):\n",
    "        if id==None:\n",
    "            self.id = uuid.uuid4()\n",
    "        else:\n",
    "            self.id = id\n",
    "        self.ptype = ptype\n",
    "        self.age = age\n",
    "        self.pos = pos\n",
    "        \n",
    "    def step(self,dt):\n",
    "        pos1 = self.pos + np.sqrt(2*self.ptype.diffusion*dt)*np.random.normal(0, 1, 2)\n",
    "        if(self.ptype.geometry.bc == 'pbc'):\n",
    "            box = self.ptype.geometry.size\n",
    "            pos1=pos1 - np.floor(pos1/box) * box\n",
    "        #print(\"type %s, age %d\"% (self.ptype.name, self.age))\n",
    "        pnew = particle(self.ptype, pos1,\n",
    "                        age = self.age + 1, id = self.id)\n",
    "        return pnew\n",
    "\n",
    "        \n",
    "class traj:\n",
    "    \"\"\"a traj is a list (frames) of lists of particles\"\"\"\n",
    "    \n",
    "    def __init__(self, particles=[]):\n",
    "        self.ptraj = []\n",
    "        self.nframes = 0\n",
    "        (self.ptraj).append(particles)\n",
    "\n",
    "    def __getitem__(self, key):\n",
    "        if isinstance(key, slice):\n",
    "            print(\"sliced trajectory\")\n",
    "        outt = traj()\n",
    "        outt.ptraj=self.ptraj[key]\n",
    "        outt.nframes = len(outt.ptraj)\n",
    "        return outt\n",
    "        \n",
    "    def describe(self):\n",
    "        n = len(self.ptraj)\n",
    "        print(\"Length %d (%d)\" % (n,self.nframes))\n",
    "        \n",
    "    def step(self,dt):\n",
    "        newvals=[]\n",
    "        for pa in (self.ptraj)[self.nframes]:\n",
    "            pa1 = pa.step(dt)\n",
    "            newvals.append(pa1)\n",
    "        (self.ptraj).append(newvals)\n",
    "        self.nframes = (self.nframes)+1\n",
    "\n",
    "    def react_unimolecular(self, dt):\n",
    "        ###### unimolecular reactions would be defined \n",
    "        ###### on unm_inducts to mimick other orders\n",
    "        ###### then here we can pass the set of unim_inducts \n",
    "        \"\"\"loops over particles and reacts them with their unimolecular reactions\n",
    "         unimolecular reactions are associated to the incoming pair\n",
    "        \"\"\"\n",
    "        newvals=[]\n",
    "        for pa in (self.ptraj)[self.nframes]:\n",
    "            react = pa.ptype.choose_reaction(dt)\n",
    "            if(not react==None):\n",
    "                pa1 = react.effect_reaction(pa)\n",
    "                if not pa1==None:\n",
    "                    for pa11 in pa1:\n",
    "                        newvals.append(pa11)\n",
    "            else:\n",
    "                newvals.append(pa)\n",
    "        \n",
    "        (self.ptraj)[self.nframes] = newvals\n",
    "        \n",
    "    def react_bimolecular(self, dt, bim_inducts, verbose=False):\n",
    "        \"\"\" bimolecular reactions        \n",
    "        \"\"\"\n",
    "        frame = (self.ptraj)[self.nframes]\n",
    "        if verbose:\n",
    "            print(\"reacting frame %d\" % self.nframes)\n",
    "        #loop over inducts, get instances, choose reaction, effect reaction\n",
    "        # remember to add the particles that are not in any instance\n",
    "        for induct in bim_inducts:\n",
    "            #print(\"induct name: %s\"%induct.name)\n",
    "            induct_instances = induct.get_ec(frame)\n",
    "            ##if len(induct_instances)>0:\n",
    "            ##    print(induct_instances)\n",
    "            for EC_instance in induct_instances:\n",
    "                react = induct.choose_reaction(dt)\n",
    "                if(not react==None):\n",
    "                    pa1 = react.effect_reaction(EC_instance)\n",
    "                    ## remove incoming particles from frame\n",
    "                    for part in EC_instance:\n",
    "                        #### EC_instance is a list of two (index,particle)\n",
    "                        #print(\"removing part %d\" % part.id)\n",
    "                        frame.remove(part)\n",
    "                    ## add educts\n",
    "                    if not pa1==None:\n",
    "                        for pa11 in pa1:\n",
    "                            frame.append(pa11)\n",
    "                            \n",
    "            "
   ]
  },
  {
   "cell_type": "code",
   "execution_count": 3,
   "metadata": {
    "collapsed": false
   },
   "outputs": [],
   "source": [
    "#col_dict = {'type 1':'red','type 1b':'blue','type 2':'orange'}\n",
    "#col_dict = {'type 1':1,'type 1b':2,'type 2':3}\n",
    "#size_dict = {'type 1':10,'type 1b':20,'type 2':30}\n",
    "\n",
    "### http://stackoverflow.com/questions/9401658/how-to-animate-a-scatter-plot\n",
    "\n",
    "def plt_traj2(traj, col_dict, size_dict):\n",
    "    \"\"\"plots a trajectory\"\"\"\n",
    "    ptraj = (traj.ptraj)\n",
    "    fig = plt.figure(figsize=(8,8))\n",
    "    ax = plt.axes(xlim=(0, 20), ylim=(0, 20))\n",
    "    scat = ax.scatter([],[], c=[], marker='o', lw=2, vmin = 0, vmax=20)\n",
    "        \n",
    "    def init():\n",
    "        scat.set_offsets(np.hstack(([], [])))\n",
    "        return scat,\n",
    "        \n",
    "    def animate(i):\n",
    "        x = [p.pos[0] for p in ptraj[i]]\n",
    "        y = [p.pos[1] for p in ptraj[i]]\n",
    "        cols = [1.*col_dict[p.ptype.name] for p in ptraj[i]]\n",
    "        sizs = [size_dict[p.ptype.name] for p in ptraj[i]]\n",
    "        scat.set_offsets(np.vstack((x, y)).T)\n",
    "        scat._sizes = np.array(sizs)*35\n",
    "        scat.set_array(np.array(cols))\n",
    "        return scat,\n",
    "\n",
    "    anim = animation.FuncAnimation(fig, animate, init_func=init,\n",
    "                               frames=traj.nframes, interval=20, blit=True)\n",
    "    return anim\n",
    "\n",
    "\n",
    "### reshape trajectory for analysis/postprocessing\n",
    "def reshape(traj):\n",
    "    \"\"\"converts a frame-based trajectory into a id-based data-frame\n",
    "    for lifetimes and concentrations\n",
    "    \n",
    "    \"\"\"\n",
    "    pp=[]\n",
    "    for i,frame in enumerate(traj.ptraj):\n",
    "        for part in frame:\n",
    "            pp.append([part.id,part.age,part.pos[0],part.pos[1],i,part.ptype.name])\n",
    "    gg = pd.DataFrame(pp,columns=['ID','age','x','y','frame','type_name'])\n",
    "    return gg\n",
    " "
   ]
  },
  {
   "cell_type": "markdown",
   "metadata": {
    "collapsed": true
   },
   "source": [
    "## define reactions classes\n",
    "\n",
    "reaction class is the used for uni- and bi- molecular reactions\n",
    "each has a method to effect it (i.e. apply it to the inducts and yield the products)\n",
    "and one single rate\n"
   ]
  },
  {
   "cell_type": "code",
   "execution_count": 4,
   "metadata": {
    "collapsed": false
   },
   "outputs": [],
   "source": [
    "class reaction:\n",
    "    \"\"\"base class for reactions, just a name, a rate and a counter\"\"\"\n",
    "    def __init__(self,name,rate):\n",
    "        self.rate = rate\n",
    "        self.name = name\n",
    "        self.counter = 0\n",
    "        #print(self)\n",
    "        \n",
    "    def report(self):\n",
    "        reaction_type = type(self).__name__\n",
    "        print(\"   %s %s: counter %d\" % (reaction_type, self.name, self.counter))\n",
    "        print(\"        rate: %d\"% self.rate)\n",
    "        \n",
    "    def reset(self):\n",
    "        self.counter = 0\n",
    "        \n"
   ]
  },
  {
   "cell_type": "markdown",
   "metadata": {},
   "source": [
    "### uni-molecular reactions\n",
    "ptypes are the inducts (this should be changed)\n",
    "the can be\n",
    "* decay A->0\n",
    "* convert A->B \n",
    "* fission A-> B+C (e.g. unbinding, or dimerization breaking)\n",
    "\n",
    "once could add multiple fission types A->B+C+D, etc."
   ]
  },
  {
   "cell_type": "code",
   "execution_count": 5,
   "metadata": {
    "collapsed": true
   },
   "outputs": [],
   "source": [
    "### ============== UNI_MOLECULAR REACTIONS ===============================\n",
    "        \n",
    "class decay_reaction(reaction):\n",
    "    \"\"\" unimolecular decay with given rate\n",
    "        A -> 0\n",
    "    \"\"\"\n",
    "    def __init__(self, name, rate):\n",
    "        super(decay_reaction,self).__init__(name,rate)\n",
    "        \n",
    "    def effect_reaction(self,particle_in):\n",
    "        self.counter += 1\n",
    "        return None\n",
    "    \n",
    "class convert_reaction(reaction):\n",
    "    \"\"\" unimolecular conversion with given rate to given type \n",
    "        A -> B\n",
    "    \"\"\"\n",
    "    def __init__(self,  name, rate, outtype):\n",
    "        self.outtype=outtype\n",
    "        super(convert_reaction,self).__init__( name, rate )\n",
    "        \n",
    "    def effect_reaction(self,particle_in):\n",
    "        self.counter += 1\n",
    "        ## return a singleton list for consistence with other reactions\n",
    "        return [particle(self.outtype, particle_in.pos )]\n",
    "\n",
    "class fission_reaction(reaction):\n",
    "    \"\"\" unimolecular fission with given rate to given type \n",
    "        A -> B+C\n",
    "    \"\"\"\n",
    "    def __init__(self,  name, rate, outtype1, outtype2):\n",
    "        self.outtype1=outtype1\n",
    "        self.outtype2=outtype2\n",
    "        super(fission_reaction,self).__init__( name, rate)\n",
    "        \n",
    "    def effect_reaction(self,particle_in):\n",
    "        self.counter += 1\n",
    "        pos = particle_in.pos\n",
    "        return [particle(self.outtype1, pos) , particle(self.outtype2, pos ) ]  "
   ]
  },
  {
   "cell_type": "markdown",
   "metadata": {},
   "source": [
    "### bi-molecular reactions\n",
    "encounter-complexes are the inducts of bi-molecular reactions\n",
    "they contain their reactions as ptypes contain the uni-molecular reactions\n",
    "they can be:\n",
    "* annihilation A+B -> 0\n",
    "* fusion A+B -> C"
   ]
  },
  {
   "cell_type": "code",
   "execution_count": 6,
   "metadata": {
    "collapsed": true
   },
   "outputs": [],
   "source": [
    "#### abstract types of EC\n",
    "### zz=bim_encunter_complex(\"bim1\",p1,p3,.9)\n",
    "#### add reactions to the EC_type\n",
    "### r1 = annihilation_reaction(\"anni1\", 1.1)\n",
    "### r2 = ...\n",
    "### zz.add_reaction(r1)\n",
    "### zz.add_reaction(r2)\n",
    "\n",
    "#### don't confuse with realizations of ECs in the simulation that can be obtained with\n",
    "### zz.get_ec(t.ptraj[100])\n",
    "\n",
    "### for a timestep, cycle over ectypes, get all ECs, \n",
    "### choose reaction for each ec, apply reaction\n",
    "\n",
    "class encunter_complex_type:\n",
    "    def __init__(self, name):\n",
    "        self.name=name\n",
    "        \n",
    "class bim_encunter_complex(encunter_complex_type):\n",
    "    \n",
    "    def __init__(self, name, typ1,typ2, dist):\n",
    "        self.type1 = typ1\n",
    "        self.type2 = typ2\n",
    "        self.dist= dist\n",
    "        self.bim_reactions = []\n",
    "        self.bim_probs = []\n",
    "        super(bim_encunter_complex,self).__init__(name)\n",
    "        \n",
    "    def describe(self):\n",
    "        print(\"Name: %s\" % self.name)\n",
    "        print(\"   Reactions:\")\n",
    "        for reac in self.bim_reactions:\n",
    "            reac.report()\n",
    "        \n",
    "    def add_reaction(self,reaction):\n",
    "        \"\"\"adds a unimolecular_reaction to the list for this particle type\n",
    "        and updates the probabilities function\"\"\"\n",
    "        \n",
    "        ## should check if reaction type is ok ...\n",
    "        (self.bim_reactions).append(reaction)\n",
    "        rates = np.array([rea.rate for rea in self.bim_reactions])\n",
    "        self.bim_probs = rates\n",
    "\n",
    "    def choose_reaction(self,dt):\n",
    "        \"\"\"chooses one reaction (or none) for a given time step\n",
    "        that reaction can then be effected on a particle with effect_reaction\n",
    "        \"\"\"\n",
    "        if len(self.bim_reactions)==0:\n",
    "            return None\n",
    "        else:\n",
    "            rates = self.bim_probs\n",
    "            probs = (rates/rates.sum())*(1 - np.exp( - dt* rates.sum()))\n",
    "            #print(\"Cumulative probs: \",np.cumsum(probs))\n",
    "            alpha=np.random.uniform(size=1)\n",
    "            conf = np.cumsum(probs)>alpha\n",
    "            if any(conf):\n",
    "                ii = np.argmax(conf)\n",
    "                #print(\"Chosen rection %s\" % self.bim_reactions[ii].name)\n",
    "                return self.bim_reactions[ii]\n",
    "            else:\n",
    "                return None\n",
    "            \n",
    "    def get_ec(self,particles_):\n",
    "        \"\"\"returns a list of instances of hte ECtype\n",
    "        each of these are a vector of (two) (index, particle)\n",
    "        bimolecular reactions effect_reaction functions take one of the instances\n",
    "        and modify it\n",
    "        \n",
    "        the bimol react function of the traj loops over the instances,\n",
    "        picks a reaction and reacts it\n",
    "        \"\"\"\n",
    "        p1 = [i for i,p in enumerate(particles_) if p.ptype==self.type1]\n",
    "        p2 = [i for i,p in enumerate(particles_) if p.ptype==self.type2]\n",
    "        ec=[]\n",
    "        #report_pairs=[]\n",
    "        #print(p1)\n",
    "        #print(p2)\n",
    "        used_ones=[]\n",
    "        for q1 in p1:\n",
    "            for q2 in p2:\n",
    "                if not q1 == q2 and not ((q1 in used_ones) or (q2 in used_ones)):\n",
    "                    vec1= particles_[q1].pos - particles_[q2].pos\n",
    "                    #print(vec1)\n",
    "                    dist1= np.sqrt((vec1 * vec1).sum())\n",
    "                    if dist1 < self.dist:\n",
    "                        #report_pairs.append([q1,q2])\n",
    "                        ec.append([particles_[q1],particles_[q2]])\n",
    "                        ## we want particles to be in only one instance\n",
    "                        ## otherwise we can react safely\n",
    "                        used_ones.append(q1)\n",
    "                        used_ones.append(q2)\n",
    "        \n",
    "        #print(report_pairs)\n",
    "        return ec"
   ]
  },
  {
   "cell_type": "code",
   "execution_count": 7,
   "metadata": {
    "collapsed": true
   },
   "outputs": [],
   "source": [
    "class annihilation_reaction(reaction):\n",
    "    \"\"\" annihilation reaction\n",
    "        A + B -> 0\n",
    "    \"\"\"\n",
    "    def __init__(self, name, rate):\n",
    "        super(annihilation_reaction,self).__init__(name,rate)\n",
    "        \n",
    "    def effect_reaction(self,encunter_complex_in):\n",
    "        self.counter += 1\n",
    "        return None\n",
    "\n",
    "class fusion_reaction(reaction):\n",
    "    \"\"\" fusion reaction\n",
    "        A + B -> C\n",
    "    \"\"\"\n",
    "    def __init__(self, name, rate, outtype):\n",
    "        self.outtype = outtype\n",
    "        super(fusion_reaction,self).__init__(name,rate)\n",
    "        \n",
    "    def effect_reaction(self,encunter_complex_in):\n",
    "        self.counter += 1\n",
    "        pos = None ## get particle pos in encounter complex in and average\n",
    "        poss = [part.pos for part in encunter_complex_in]\n",
    "        #print([part[0] for part in encunter_complex_in])    \n",
    "        return [particle(self.outtype, poss[0])]\n",
    "    \n"
   ]
  },
  {
   "cell_type": "code",
   "execution_count": 8,
   "metadata": {
    "collapsed": false
   },
   "outputs": [],
   "source": [
    "class ensemble(object):\n",
    "    def __init__(self, trajs=[]):\n",
    "        if not isinstance(trajs, list):\n",
    "            trajs=[trajs]\n",
    "        self.trajs=trajs\n",
    "        self.params=[]\n",
    "    \n",
    "    def describe(self):\n",
    "        print(\"Ensemble has %d trajectories\" % len(self.trajs))\n",
    "        for t in self.trajs:\n",
    "            t.describe()\n",
    "    \n",
    "    def add_traj(self,traj):\n",
    "        (self.trajs).append(traj)\n",
    "        \n",
    "    def lifetimes(self,doplot=True):\n",
    "        \"\"\"plots the lifetime distributions of the different species in the ensemble\n",
    "        returns a grouped set by species with the individual lifetimes\n",
    "        \"\"\"\n",
    "        res_list=[]\n",
    "        trj_index = np.array(range(len(self.trajs))).astype('str')\n",
    "        for t in self.trajs:\n",
    "            ## get lifetime for all particles, flatten and drop ID\n",
    "            tr = reshape(t).groupby(by=['ID','type_name']).agg({'age':'max'})\n",
    "            tr2 = tr.rename(index=str).reset_index().drop('ID',axis=1)\n",
    "            res_list.append(tr2)\n",
    "        lifes = pd.concat(res_list,ignore_index=True)\n",
    "        if doplot:\n",
    "            plt.figure()\n",
    "            axes = lifes.hist(by='type_name', bins=30)\n",
    "            #for ax in np.ravel(axes):\n",
    "            #    ax.set_xlabel(\"lifetime (frames)\")\n",
    "            #    ax.set_ylabel(\"freq\")\n",
    "            plt.tight_layout()\n",
    "            plt.show()\n",
    "        lifes2 = lifes.groupby('type_name')\n",
    "        return lifes2\n",
    "    \n",
    "    def concentrations(self,doplot=True):\n",
    "        ### get concentrations as a function of frame\n",
    "        ### group by frame and type, then count particles of each type\n",
    "        res_list=[]\n",
    "        for i,t in enumerate(self.trajs):\n",
    "            ## get lifetime for all particles, flatten and drop ID\n",
    "            tr = reshape(t).groupby(by=['frame','type_name']).agg({'ID':'count'})\n",
    "            tr['trj_in']=str(i)\n",
    "            tr2 =tr.rename(index=str).reset_index()\n",
    "            res_list.append(tr2)\n",
    "        counts = pd.concat(res_list,ignore_index=True)\n",
    "        return counts\n",
    "    \n",
    "#    def save(self,filename):        \n",
    "#    def load(self,filename):\n",
    "        "
   ]
  },
  {
   "cell_type": "markdown",
   "metadata": {},
   "source": [
    "## define a class to run the simulation\n",
    "wraps in progress bar class, calls the integrator for diffusive motion, then reacts uni-molecular and bi-molecular (tri-molecular, etc.) reactions"
   ]
  },
  {
   "cell_type": "code",
   "execution_count": 9,
   "metadata": {
    "collapsed": true
   },
   "outputs": [],
   "source": [
    "from pyemma._base.progress import ProgressReporter\n",
    "\n",
    "class runner(ProgressReporter):\n",
    "    def __init__(self, nframes, timestep):\n",
    "        self.nframes = nframes\n",
    "        self.timestep = timestep\n",
    "        self._progress_register(nframes,\"Running simulation\")\n",
    "    \n",
    "    def run(self, traj, reactions_mono= None, reactions_bim=None,verbose=True):\n",
    "        if verbose:\n",
    "            traj.describe()\n",
    "        for i in range(self.nframes):\n",
    "            traj.step(self.timestep)\n",
    "            traj.react_unimolecular(.1)\n",
    "            if reactions_bim!=None:\n",
    "                traj.react_bimolecular(.1, reactions_bim)   \n",
    "            self._progress_update(1)\n",
    "        if verbose:\n",
    "            traj.describe()\n",
    "        ### report bimolecular complexes reactions\n",
    "        if verbose:\n",
    "            if reactions_bim!=None:\n",
    "                for zz in reactions_bim:\n",
    "                    zz.describe()"
   ]
  },
  {
   "cell_type": "code",
   "execution_count": 10,
   "metadata": {
    "collapsed": false
   },
   "outputs": [],
   "source": [
    "def random_init(n, types_list, fractions=[], cellsize=20):\n",
    "    \"\"\"aux function to create a randomized initial state \n",
    "    with a concentrations or the \"\"\"\n",
    "    if not isinstance(types_list,list):\n",
    "        types_list=[types_list]\n",
    "    if len(fractions)==0:\n",
    "        fractions=np.ones(len(types_list))\n",
    "        fractions = fractions/fractions.sum()\n",
    "    counts = (n*fractions).astype('int')\n",
    "    init_pos=[]\n",
    "    for i, parttype in enumerate(types_list):\n",
    "        for j in range(counts[i]):\n",
    "            p = particle(parttype, \n",
    "                         pos=np.random.uniform(high=cellsize,low=0,size=2),age=0)\n",
    "            init_pos.append(p)\n",
    "            \n",
    "    return traj(init_pos)\n",
    "\n",
    "    "
   ]
  },
  {
   "cell_type": "markdown",
   "metadata": {},
   "source": [
    "# SIMULATION "
   ]
  },
  {
   "cell_type": "markdown",
   "metadata": {},
   "source": [
    "##### initialize the system\n",
    "define which particles we have, and how they react."
   ]
  },
  {
   "cell_type": "code",
   "execution_count": null,
   "metadata": {
    "collapsed": false
   },
   "outputs": [],
   "source": [
    "## create particle types and their unimolecular reactions\n",
    "membrane = geometry(dim=2,size=20)\n",
    "\n",
    "p1 = ptype(5.0e-2,\"mono\",membrane)\n",
    "p1m = ptype(1.5e-2,\"mono_mem\",membrane)\n",
    "p1n = ptype(1.5e-2,\"mono_mem2\",membrane)\n",
    "\n",
    "## dimer disruption into states that remember their orientation\n",
    "p2 = ptype(5.0e-3,\"dimer\",membrane)\n",
    "p2.add_reaction( \n",
    "    fission_reaction(\"fission 1\", rate=.3, outtype1=p1m, outtype2=p1m) )\n",
    "\n",
    "p3 = ptype(5.0e-3,\"dimer2\",membrane)\n",
    "p3.add_reaction( \n",
    "    fission_reaction(\"fission 2\", rate=.3, outtype1=p1n, outtype2=p1n) )\n",
    "\n",
    "\n",
    "### dimer2 can turn to a different conformation while dimerized\n",
    "### this new dimer cannot break apart\n",
    "p4 = ptype(5.0e-3,\"dimer4\",membrane)\n",
    "p4.add_reaction( convert_reaction(\"roll\", rate=1.0e-4, outtype=p3) )\n",
    "p3.add_reaction( convert_reaction(\"roll_back\", rate=.1, outtype=p4) )\n",
    "\n",
    "## Dimerization 1: monomers bind to form interface, from any angular state\n",
    "zz=bim_encunter_complex(\"dimerization_EC\",p1,p1,dist=0.3)\n",
    "r2 = fusion_reaction(\"dimerization 1\", rate=3, outtype=p2)\n",
    "r3 = fusion_reaction(\"dimerization 2\", rate=5, outtype=p3)\n",
    "zz.add_reaction(r2)\n",
    "zz.add_reaction(r3)\n",
    "\n",
    "\n",
    "## Recently separated remember their orientation\n",
    "## think about the dist meaning here... how should it be chosen?\n",
    "\n",
    "## dimers 1:\n",
    "zzm=bim_encunter_complex(\"dimerization1a_EC\",p1m,p1m,dist=1)\n",
    "r2m = fusion_reaction(\"fusion1a\", rate=1, outtype=p2)\n",
    "zzm.add_reaction(r2m)\n",
    "## recently sep loose memory\n",
    "p1m.add_reaction( convert_reaction(\"forget_angular\", rate=.1, outtype=p1) )\n",
    "\n",
    "## dimers 2:\n",
    "zzn=bim_encunter_complex(\"dimerization1b_EC\",p1n,p1n,0.9)\n",
    "r2n = fusion_reaction(\"fusion1b\", rate=1, outtype=p3)\n",
    "zzn.add_reaction(r2n)\n",
    "## recently sep loose memory\n",
    "p1n.add_reaction( convert_reaction(\"forget_angular\", rate=.1, outtype=p1) )\n",
    "\n",
    "## collect all the bimolecular reactions\n",
    "bim_inducts = [zz,zzm,zzn]\n"
   ]
  },
  {
   "cell_type": "markdown",
   "metadata": {},
   "source": [
    "### create a runner and run the simulation"
   ]
  },
  {
   "cell_type": "code",
   "execution_count": null,
   "metadata": {
    "collapsed": false
   },
   "outputs": [],
   "source": [
    "### set initial positions\n",
    "init_pos = [particle(p1, \n",
    "                     pos= np.random.uniform(high=20,low=0,size=2),\n",
    "                     age=0) \n",
    "            for i in range(30)]\n",
    "t = traj(init_pos)\n",
    "\n",
    "## create a runner\n",
    "run_1000steps = runner(1000, timestep = .1)\n",
    "## run the simulation\n",
    "run_1000steps.run(t,reactions_bim = bim_inducts)"
   ]
  },
  {
   "cell_type": "markdown",
   "metadata": {},
   "source": [
    "#### run"
   ]
  },
  {
   "cell_type": "code",
   "execution_count": null,
   "metadata": {
    "collapsed": false
   },
   "outputs": [],
   "source": [
    "#### run multiple copies of a run for given concentrations\n",
    "#### add results to ensemble class for analysis\n",
    "\n",
    "n_replicas=5\n",
    "sett = []\n",
    "for i in range(n_replicas):\n",
    "    t2 = random_init(30,[p1,p3])\n",
    "    run_1000steps = runner(1000, timestep = .1)\n",
    "    run_1000steps.run(t2,reactions_bim = bim_inducts,verbose=False)\n",
    "    sett.append(t2)\n",
    "    \n",
    "em1 = ensemble(sett)\n",
    "em1.describe()"
   ]
  },
  {
   "cell_type": "markdown",
   "metadata": {},
   "source": [
    "# analysis and post processing"
   ]
  },
  {
   "cell_type": "code",
   "execution_count": null,
   "metadata": {
    "collapsed": true
   },
   "outputs": [],
   "source": [
    "### do a movie of the trajectory (can be slowish to generate)"
   ]
  },
  {
   "cell_type": "code",
   "execution_count": null,
   "metadata": {
    "collapsed": false
   },
   "outputs": [],
   "source": [
    "col_dict = {'mono':0,'dimer':7, 'mono_mem':6, 'dimer2':15, 'mono_mem2':14, 'dimer4':20}\n",
    "size_dict = {'mono':2,'dimer':5,'mono_mem':2, 'dimer2':5, 'mono_mem2':2, 'dimer4':5}\n",
    "aa = plt_traj2(sett[1],col_dict, size_dict)\n",
    "HTML(aa.to_html5_video())\n"
   ]
  },
  {
   "cell_type": "code",
   "execution_count": null,
   "metadata": {
    "collapsed": true
   },
   "outputs": [],
   "source": [
    "aa.save('im.mp4')"
   ]
  },
  {
   "cell_type": "markdown",
   "metadata": {},
   "source": [
    "### liftimes"
   ]
  },
  {
   "cell_type": "code",
   "execution_count": null,
   "metadata": {
    "collapsed": false
   },
   "outputs": [],
   "source": [
    "## analyse life-time distribution and concentration of all species as a functin of time\n",
    "## remember final semi column to prevent double plot\n",
    "zz=em1.lifetimes(doplot=True);"
   ]
  },
  {
   "cell_type": "code",
   "execution_count": null,
   "metadata": {
    "collapsed": false
   },
   "outputs": [],
   "source": [
    "t=zz.get_group('dimer2')\n",
    "uu=t.drop('type_name',1).dropna()\n",
    "hist, bin_edges = np.histogram(uu.age,bins=50)\n",
    "plt.plot(hist,marker='o')\n",
    "plt.show()"
   ]
  },
  {
   "cell_type": "markdown",
   "metadata": {},
   "source": [
    "### concentration and dimeric fractions"
   ]
  },
  {
   "cell_type": "code",
   "execution_count": null,
   "metadata": {
    "collapsed": false
   },
   "outputs": [],
   "source": [
    "ff = (em1.concentrations())\n",
    "gg=ff.groupby('type_name')\n",
    "\n",
    "rr=gg.get_group('dimer4')\n",
    "rr=rr.fillna(0).drop('type_name',1)\n",
    "#rr2 = rr.pivot(index='frame', columns='trj_in', values='ID')\n",
    "rr3=rr.groupby('frame').agg({'ID':{'mea':'mean', 'sd':'std'}}).rename(index=str).reset_index()\n",
    "#rr3.index = rr3.index.astype('int')\n",
    "#rr3.head()\n",
    "rr4=rr3.set_index(rr3.frame)\n",
    "rr4.index = rr4.index.astype('int')\n",
    "rr5=rr4.sort_index()\n",
    "#rr5.head()"
   ]
  },
  {
   "cell_type": "code",
   "execution_count": null,
   "metadata": {
    "collapsed": false
   },
   "outputs": [],
   "source": [
    "rr5.plot()\n",
    "plt.show()"
   ]
  },
  {
   "cell_type": "markdown",
   "metadata": {},
   "source": [
    "#### concentration fluctuations at equilibrium\n",
    "calculate the full distribution of concentrations at steady state"
   ]
  },
  {
   "cell_type": "code",
   "execution_count": null,
   "metadata": {
    "collapsed": true
   },
   "outputs": [],
   "source": [
    "### do for different concentrations and diffusions"
   ]
  },
  {
   "cell_type": "code",
   "execution_count": 18,
   "metadata": {
    "collapsed": true
   },
   "outputs": [],
   "source": [
    "def setup_system(copynumber, diffusion, rates):\n",
    "    \"\"\"\n",
    "    setup a trajectory for different system parameters\n",
    "    \"\"\"\n",
    "\n",
    "    ## create particle types and their unimolecular reactions\n",
    "    membrane = geometry(dim=2,size=20)\n",
    "    q1 = ptype(diffusion['mono'],\"mono\",membrane)\n",
    "    q2 = ptype(diffusion['dimer'],\"dimer\",membrane)\n",
    "    \n",
    "    ## dimer disruption into states that remember their orientation\n",
    "    q2.add_reaction( \n",
    "        fission_reaction(\"fission 1\", rate=rates['on'], outtype1=q1, outtype2=q1) )\n",
    "    ## Dimerization 1: monomers bind to form interface, from any angular state\n",
    "    zz1=bim_encunter_complex(\"dimerization_EC\",q1,q1,dist=0.3)\n",
    "    r23 = fusion_reaction(\"dimerization 1\", rate=rates['off'], outtype=q2)\n",
    "    zz1.add_reaction(r23)\n",
    "\n",
    "    ## collect all the bimolecular reactions\n",
    "    bim_inducts = [zz1]\n",
    "    t2 = random_init(copynumber,[q1])\n",
    "    t2.describe()\n",
    "    return (t2 , bim_inducts)\n"
   ]
  },
  {
   "cell_type": "code",
   "execution_count": 19,
   "metadata": {
    "collapsed": false
   },
   "outputs": [
    {
     "name": "stdout",
     "output_type": "stream",
     "text": [
      "Length 1 (0)\n",
      "Length 1 (0)\n",
      "Length 1 (0)\n",
      "Length 1 (0)\n",
      "Length 1 (0)\n",
      "Ensemble has 5 trajectories\n",
      "Length 1001 (1000)\n",
      "Length 1001 (1000)\n",
      "Length 1001 (1000)\n",
      "Length 1001 (1000)\n",
      "Length 1001 (1000)\n"
     ]
    }
   ],
   "source": [
    "n_replicas=5\n",
    "sett = []\n",
    "for i in range(n_replicas):\n",
    "    t2, reacts = setup_system(30,\n",
    "        diffusion = {'mono':5e-2, 'dimer':1.5e-2} , \n",
    "        rates = {'on':0.3 ,'off':10. })\n",
    "    run_1000steps = runner(1000, timestep = .1)\n",
    "    run_1000steps.run(t2, reactions_bim = reacts ,verbose=False)\n",
    "    sett.append(t2)\n",
    "    \n",
    "em1 = ensemble(sett)\n",
    "em1.describe()"
   ]
  },
  {
   "cell_type": "code",
   "execution_count": 20,
   "metadata": {
    "collapsed": false
   },
   "outputs": [
    {
     "data": {
      "image/png": "[encoded data removed]",
      "text/plain": [
       "<matplotlib.figure.Figure at 0x7f99c699ae80>"
      ]
     },
     "metadata": {},
     "output_type": "display_data"
    }
   ],
   "source": [
    "ff = (em1.concentrations())\n",
    "gg=ff.groupby('type_name')\n",
    "\n",
    "rr=gg.get_group('mono')\n",
    "rr=rr.fillna(0).drop('type_name',1)\n",
    "#rr2 = rr.pivot(index='frame', columns='trj_in', values='ID')\n",
    "rr3=rr.groupby('frame').agg({'ID':{'mea':'mean', 'sd':'std'}}).rename(index=str).reset_index()\n",
    "#rr3.index = rr3.index.astype('int')\n",
    "#rr3.head()\n",
    "rr4=rr3.set_index(rr3.frame)\n",
    "rr4.index = rr4.index.astype('int')\n",
    "rr5=rr4.sort_index()\n",
    "#rr5.head()\n",
    "rr5.plot()\n",
    "plt.show()"
   ]
  },
  {
   "cell_type": "code",
   "execution_count": 21,
   "metadata": {
    "collapsed": false
   },
   "outputs": [
    {
     "data": {
      "text/plain": [
       "<matplotlib.figure.Figure at 0x7f99c6c6cf98>"
      ]
     },
     "metadata": {},
     "output_type": "display_data"
    },
    {
     "data": {
      "image/png": "[encoded data removed]",
      "text/plain": [
       "<matplotlib.figure.Figure at 0x7f99c6c1dc88>"
      ]
     },
     "metadata": {},
     "output_type": "display_data"
    }
   ],
   "source": [
    "zz=em1.lifetimes(doplot=True);"
   ]
  },
  {
   "cell_type": "code",
   "execution_count": null,
   "metadata": {
    "collapsed": false
   },
   "outputs": [],
   "source": [
    "col_dict = {'mono':0,'dimer':7}\n",
    "size_dict = {'mono':2,'dimer':5}\n",
    "aa = plt_traj2(em1.trajs[0],col_dict, size_dict)\n",
    "HTML(aa.to_html5_video())"
   ]
  }
 ],
 "metadata": {
  "anaconda-cloud": {},
  "kernelspec": {
   "display_name": "Python [conda env:mylab3]",
   "language": "python",
   "name": "conda-env-mylab3-py"
  },
  "language_info": {
   "codemirror_mode": {
    "name": "ipython",
    "version": 3
   },
   "file_extension": ".py",
   "mimetype": "text/x-python",
   "name": "python",
   "nbconvert_exporter": "python",
   "pygments_lexer": "ipython3",
   "version": "3.5.2"
  }
 },
 "nbformat": 4,
 "nbformat_minor": 1
}
